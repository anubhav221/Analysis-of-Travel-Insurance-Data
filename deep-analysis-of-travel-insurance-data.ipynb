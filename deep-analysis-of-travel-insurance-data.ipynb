{
 "cells": [
  {
   "cell_type": "markdown",
   "id": "e6904a91",
   "metadata": {
    "_cell_guid": "b1076dfc-b9ad-4769-8c92-a6c4dae69d19",
    "_uuid": "8f2839f25d086af736a60e9eeb907d3b93b6e0e5",
    "execution": {
     "iopub.execute_input": "2021-09-14T10:11:53.359368Z",
     "iopub.status.busy": "2021-09-14T10:11:53.358471Z",
     "iopub.status.idle": "2021-09-14T10:11:53.378638Z",
     "shell.execute_reply": "2021-09-14T10:11:53.377866Z",
     "shell.execute_reply.started": "2021-09-14T10:11:53.359248Z"
    },
    "papermill": {
     "duration": 0.038452,
     "end_time": "2021-09-17T02:18:59.576385",
     "exception": false,
     "start_time": "2021-09-17T02:18:59.537933",
     "status": "completed"
    },
    "tags": []
   },
   "source": [
   ]
  },
  {
   "cell_type": "code",
   "execution_count": 1,
   "id": "9a3c6c0c",
   "metadata": {
    "execution": {
     "iopub.execute_input": "2021-09-17T02:18:59.660686Z",
     "iopub.status.busy": "2021-09-17T02:18:59.659654Z",
     "iopub.status.idle": "2021-09-17T02:18:59.672751Z",
     "shell.execute_reply": "2021-09-17T02:18:59.673384Z"
    },
    "papermill": {
     "duration": 0.06054,
     "end_time": "2021-09-17T02:18:59.673712",
     "exception": false,
     "start_time": "2021-09-17T02:18:59.613172",
     "status": "completed"
    },
    "tags": []
   },
   "outputs": [
    {
     "name": "stdout",
     "output_type": "stream",
     "text": [
      "/kaggle/input/travel-insurance/travel insurance.csv\n"
     ]
    }
   ],
   "source": [
    "\n",
    "import numpy as np # linear algebra\n",
    "import pandas as pd # data processing, CSV file I/O (e.g. pd.read_csv)\n",
    "\n",
    "\n",
    "import os\n",
    "for dirname, _, filenames in os.walk('/kaggle/input'):\n",
    "    for filename in filenames:\n",
    "        print(os.path.join(dirname, filename))\n",
    "\n"
   ]
  },
  {
   "cell_type": "code",
   "execution_count": 2,
   "id": "bd5a4005",
   "metadata": {
    "execution": {
     "iopub.execute_input": "2021-09-17T02:18:59.747473Z",
     "iopub.status.busy": "2021-09-17T02:18:59.746812Z",
     "iopub.status.idle": "2021-09-17T02:19:02.717610Z",
     "shell.execute_reply": "2021-09-17T02:19:02.716884Z",
     "shell.execute_reply.started": "2021-09-14T10:11:57.753754Z"
    },
    "papermill": {
     "duration": 3.008976,
     "end_time": "2021-09-17T02:19:02.717798",
     "exception": false,
     "start_time": "2021-09-17T02:18:59.708822",
     "status": "completed"
    },
    "tags": []
   },
   "outputs": [],
   "source": [
    "import pandas as pd\n",
    "import numpy as np\n",
    "import plotly.express as px\n",
    "import seaborn as sns\n",
    "import matplotlib.pyplot as plt\n",
    "from palettable.colorbrewer.qualitative import Pastel1_7\n",
    "from sklearn.preprocessing import MinMaxScaler\n",
    "from imblearn.over_sampling import SMOTE \n",
    "from sklearn.model_selection import train_test_split\n",
    "from sklearn.ensemble import RandomForestClassifier\n",
    "from sklearn.metrics import accuracy_score, recall_score, confusion_matrix\n",
    "from sklearn.metrics import f1_score"
   ]
  },
  {
   "cell_type": "code",
   "execution_count": 3,
   "id": "5e711161",
   "metadata": {
    "execution": {
     "iopub.execute_input": "2021-09-17T02:19:02.791424Z",
     "iopub.status.busy": "2021-09-17T02:19:02.790771Z",
     "iopub.status.idle": "2021-09-17T02:19:02.966463Z",
     "shell.execute_reply": "2021-09-17T02:19:02.967006Z",
     "shell.execute_reply.started": "2021-09-14T10:12:02.358483Z"
    },
    "papermill": {
     "duration": 0.214336,
     "end_time": "2021-09-17T02:19:02.967212",
     "exception": false,
     "start_time": "2021-09-17T02:19:02.752876",
     "status": "completed"
    },
    "tags": []
   },
   "outputs": [
    {
     "data": {
      "text/html": [
       "<div>\n",
       "<style scoped>\n",
       "    .dataframe tbody tr th:only-of-type {\n",
       "        vertical-align: middle;\n",
       "    }\n",
       "\n",
       "    .dataframe tbody tr th {\n",
       "        vertical-align: top;\n",
       "    }\n",
       "\n",
       "    .dataframe thead th {\n",
       "        text-align: right;\n",
       "    }\n",
       "</style>\n",
       "<table border=\"1\" class=\"dataframe\">\n",
       "  <thead>\n",
       "    <tr style=\"text-align: right;\">\n",
       "      <th></th>\n",
       "      <th>Agency</th>\n",
       "      <th>Agency Type</th>\n",
       "      <th>Distribution Channel</th>\n",
       "      <th>Product Name</th>\n",
       "      <th>Claim</th>\n",
       "      <th>Duration</th>\n",
       "      <th>Destination</th>\n",
       "      <th>Net Sales</th>\n",
       "      <th>Commision (in value)</th>\n",
       "      <th>Gender</th>\n",
       "      <th>Age</th>\n",
       "    </tr>\n",
       "  </thead>\n",
       "  <tbody>\n",
       "    <tr>\n",
       "      <th>0</th>\n",
       "      <td>CBH</td>\n",
       "      <td>Travel Agency</td>\n",
       "      <td>Offline</td>\n",
       "      <td>Comprehensive Plan</td>\n",
       "      <td>No</td>\n",
       "      <td>186</td>\n",
       "      <td>MALAYSIA</td>\n",
       "      <td>-29.0</td>\n",
       "      <td>9.57</td>\n",
       "      <td>F</td>\n",
       "      <td>81</td>\n",
       "    </tr>\n",
       "    <tr>\n",
       "      <th>1</th>\n",
       "      <td>CBH</td>\n",
       "      <td>Travel Agency</td>\n",
       "      <td>Offline</td>\n",
       "      <td>Comprehensive Plan</td>\n",
       "      <td>No</td>\n",
       "      <td>186</td>\n",
       "      <td>MALAYSIA</td>\n",
       "      <td>-29.0</td>\n",
       "      <td>9.57</td>\n",
       "      <td>F</td>\n",
       "      <td>71</td>\n",
       "    </tr>\n",
       "    <tr>\n",
       "      <th>2</th>\n",
       "      <td>CWT</td>\n",
       "      <td>Travel Agency</td>\n",
       "      <td>Online</td>\n",
       "      <td>Rental Vehicle Excess Insurance</td>\n",
       "      <td>No</td>\n",
       "      <td>65</td>\n",
       "      <td>AUSTRALIA</td>\n",
       "      <td>-49.5</td>\n",
       "      <td>29.70</td>\n",
       "      <td>NaN</td>\n",
       "      <td>32</td>\n",
       "    </tr>\n",
       "    <tr>\n",
       "      <th>3</th>\n",
       "      <td>CWT</td>\n",
       "      <td>Travel Agency</td>\n",
       "      <td>Online</td>\n",
       "      <td>Rental Vehicle Excess Insurance</td>\n",
       "      <td>No</td>\n",
       "      <td>60</td>\n",
       "      <td>AUSTRALIA</td>\n",
       "      <td>-39.6</td>\n",
       "      <td>23.76</td>\n",
       "      <td>NaN</td>\n",
       "      <td>32</td>\n",
       "    </tr>\n",
       "    <tr>\n",
       "      <th>4</th>\n",
       "      <td>CWT</td>\n",
       "      <td>Travel Agency</td>\n",
       "      <td>Online</td>\n",
       "      <td>Rental Vehicle Excess Insurance</td>\n",
       "      <td>No</td>\n",
       "      <td>79</td>\n",
       "      <td>ITALY</td>\n",
       "      <td>-19.8</td>\n",
       "      <td>11.88</td>\n",
       "      <td>NaN</td>\n",
       "      <td>41</td>\n",
       "    </tr>\n",
       "  </tbody>\n",
       "</table>\n",
       "</div>"
      ],
      "text/plain": [
       "  Agency    Agency Type Distribution Channel                     Product Name  \\\n",
       "0    CBH  Travel Agency              Offline               Comprehensive Plan   \n",
       "1    CBH  Travel Agency              Offline               Comprehensive Plan   \n",
       "2    CWT  Travel Agency               Online  Rental Vehicle Excess Insurance   \n",
       "3    CWT  Travel Agency               Online  Rental Vehicle Excess Insurance   \n",
       "4    CWT  Travel Agency               Online  Rental Vehicle Excess Insurance   \n",
       "\n",
       "  Claim  Duration Destination  Net Sales  Commision (in value) Gender  Age  \n",
       "0    No       186    MALAYSIA      -29.0                  9.57      F   81  \n",
       "1    No       186    MALAYSIA      -29.0                  9.57      F   71  \n",
       "2    No        65   AUSTRALIA      -49.5                 29.70    NaN   32  \n",
       "3    No        60   AUSTRALIA      -39.6                 23.76    NaN   32  \n",
       "4    No        79       ITALY      -19.8                 11.88    NaN   41  "
      ]
     },
     "execution_count": 3,
     "metadata": {},
     "output_type": "execute_result"
    }
   ],
   "source": [
    "df=pd.read_csv('/kaggle/input/travel-insurance/travel insurance.csv')\n",
    "df.head()"
   ]
  },
  {
   "cell_type": "code",
   "execution_count": 4,
   "id": "4f412286",
   "metadata": {
    "execution": {
     "iopub.execute_input": "2021-09-17T02:19:03.044656Z",
     "iopub.status.busy": "2021-09-17T02:19:03.043748Z",
     "iopub.status.idle": "2021-09-17T02:19:03.047956Z",
     "shell.execute_reply": "2021-09-17T02:19:03.047284Z",
     "shell.execute_reply.started": "2021-09-14T10:12:04.583595Z"
    },
    "papermill": {
     "duration": 0.045682,
     "end_time": "2021-09-17T02:19:03.048118",
     "exception": false,
     "start_time": "2021-09-17T02:19:03.002436",
     "status": "completed"
    },
    "tags": []
   },
   "outputs": [
    {
     "data": {
      "text/plain": [
       "(63326, 11)"
      ]
     },
     "execution_count": 4,
     "metadata": {},
     "output_type": "execute_result"
    }
   ],
   "source": [
    "df.shape"
   ]
  },
  {
   "cell_type": "markdown",
   "id": "34f8f762",
   "metadata": {
    "papermill": {
     "duration": 0.035788,
     "end_time": "2021-09-17T02:19:03.121706",
     "exception": false,
     "start_time": "2021-09-17T02:19:03.085918",
     "status": "completed"
    },
    "tags": []
   },
   "source": [
    "*Dataset has 11 columns and 63326 rows. Out of the 11 columns, Claim is a target variable.*"
   ]
  },
  {
   "cell_type": "code",
   "execution_count": 5,
   "id": "71c982ee",
   "metadata": {
    "execution": {
     "iopub.execute_input": "2021-09-17T02:19:03.202675Z",
     "iopub.status.busy": "2021-09-17T02:19:03.201633Z",
     "iopub.status.idle": "2021-09-17T02:19:03.204681Z",
     "shell.execute_reply": "2021-09-17T02:19:03.205128Z",
     "shell.execute_reply.started": "2021-09-14T10:12:06.904014Z"
    },
    "papermill": {
     "duration": 0.045608,
     "end_time": "2021-09-17T02:19:03.205314",
     "exception": false,
     "start_time": "2021-09-17T02:19:03.159706",
     "status": "completed"
    },
    "tags": []
   },
   "outputs": [
    {
     "data": {
      "text/plain": [
       "Index(['Agency', 'Agency Type', 'Distribution Channel', 'Product Name',\n",
       "       'Claim', 'Duration', 'Destination', 'Net Sales', 'Commision (in value)',\n",
       "       'Gender', 'Age'],\n",
       "      dtype='object')"
      ]
     },
     "execution_count": 5,
     "metadata": {},
     "output_type": "execute_result"
    }
   ],
   "source": [
    "df.columns"
   ]
  },
  {
   "cell_type": "markdown",
   "id": "6446d7e8",
   "metadata": {
    "papermill": {
     "duration": 0.035378,
     "end_time": "2021-09-17T02:19:03.276546",
     "exception": false,
     "start_time": "2021-09-17T02:19:03.241168",
     "status": "completed"
    },
    "tags": []
   },
   "source": [
    "All the column names are listed above. Since there is whitespace between the 2 word column names, let's rename the column names to avoid any naming issues."
   ]
  },
  {
   "cell_type": "code",
   "execution_count": 6,
   "id": "121db846",
   "metadata": {
    "execution": {
     "iopub.execute_input": "2021-09-17T02:19:03.352951Z",
     "iopub.status.busy": "2021-09-17T02:19:03.352141Z",
     "iopub.status.idle": "2021-09-17T02:19:03.360905Z",
     "shell.execute_reply": "2021-09-17T02:19:03.360354Z",
     "shell.execute_reply.started": "2021-09-14T10:12:10.264115Z"
    },
    "papermill": {
     "duration": 0.047958,
     "end_time": "2021-09-17T02:19:03.361068",
     "exception": false,
     "start_time": "2021-09-17T02:19:03.313110",
     "status": "completed"
    },
    "tags": []
   },
   "outputs": [],
   "source": [
    "df.rename(columns={ 'Agency Type':'Agency_Type', 'Distribution Channel':'Distribution_Channel', 'Product Name':'Product_Name','Net Sales':'Net_Sales', 'Commision (in value)':'Commision'},inplace=True)"
   ]
  },
  {
   "cell_type": "markdown",
   "id": "11474115",
   "metadata": {
    "papermill": {
     "duration": 0.035206,
     "end_time": "2021-09-17T02:19:03.432149",
     "exception": false,
     "start_time": "2021-09-17T02:19:03.396943",
     "status": "completed"
    },
    "tags": []
   },
   "source": [
    "The necessary columns have been successfully renamed."
   ]
  },
  {
   "cell_type": "code",
   "execution_count": 7,
   "id": "d6a63973",
   "metadata": {
    "execution": {
     "iopub.execute_input": "2021-09-17T02:19:03.533428Z",
     "iopub.status.busy": "2021-09-17T02:19:03.513676Z",
     "iopub.status.idle": "2021-09-17T02:19:03.552500Z",
     "shell.execute_reply": "2021-09-17T02:19:03.552950Z",
     "shell.execute_reply.started": "2021-09-14T10:12:12.573135Z"
    },
    "papermill": {
     "duration": 0.083707,
     "end_time": "2021-09-17T02:19:03.553146",
     "exception": false,
     "start_time": "2021-09-17T02:19:03.469439",
     "status": "completed"
    },
    "tags": []
   },
   "outputs": [
    {
     "name": "stdout",
     "output_type": "stream",
     "text": [
      "<class 'pandas.core.frame.DataFrame'>\n",
      "RangeIndex: 63326 entries, 0 to 63325\n",
      "Data columns (total 11 columns):\n",
      " #   Column                Non-Null Count  Dtype  \n",
      "---  ------                --------------  -----  \n",
      " 0   Agency                63326 non-null  object \n",
      " 1   Agency_Type           63326 non-null  object \n",
      " 2   Distribution_Channel  63326 non-null  object \n",
      " 3   Product_Name          63326 non-null  object \n",
      " 4   Claim                 63326 non-null  object \n",
      " 5   Duration              63326 non-null  int64  \n",
      " 6   Destination           63326 non-null  object \n",
      " 7   Net_Sales             63326 non-null  float64\n",
      " 8   Commision             63326 non-null  float64\n",
      " 9   Gender                18219 non-null  object \n",
      " 10  Age                   63326 non-null  int64  \n",
      "dtypes: float64(2), int64(2), object(7)\n",
      "memory usage: 5.3+ MB\n"
     ]
    }
   ],
   "source": [
    "df.info()"
   ]
  },
  {
   "cell_type": "markdown",
   "id": "1a1e455a",
   "metadata": {
    "papermill": {
     "duration": 0.035583,
     "end_time": "2021-09-17T02:19:03.624631",
     "exception": false,
     "start_time": "2021-09-17T02:19:03.589048",
     "status": "completed"
    },
    "tags": []
   },
   "source": [
    "From the info, we know that there are 4 numerical columns while 7 are categorical."
   ]
  },
  {
   "cell_type": "markdown",
   "id": "5db10a23",
   "metadata": {
    "papermill": {
     "duration": 0.035443,
     "end_time": "2021-09-17T02:19:03.697003",
     "exception": false,
     "start_time": "2021-09-17T02:19:03.661560",
     "status": "completed"
    },
    "tags": []
   },
   "source": []
  },
  {
   "cell_type": "code",
   "execution_count": 8,
   "id": "76eb0d42",
   "metadata": {
    "execution": {
     "iopub.execute_input": "2021-09-17T02:19:03.773089Z",
     "iopub.status.busy": "2021-09-17T02:19:03.772446Z",
     "iopub.status.idle": "2021-09-17T02:19:03.801490Z",
     "shell.execute_reply": "2021-09-17T02:19:03.802013Z",
     "shell.execute_reply.started": "2021-09-14T10:12:15.043711Z"
    },
    "papermill": {
     "duration": 0.069083,
     "end_time": "2021-09-17T02:19:03.802197",
     "exception": false,
     "start_time": "2021-09-17T02:19:03.733114",
     "status": "completed"
    },
    "tags": []
   },
   "outputs": [
    {
     "data": {
      "text/plain": [
       "<bound method NDFrame._add_numeric_operations.<locals>.any of Agency                      0\n",
       "Agency_Type                 0\n",
       "Distribution_Channel        0\n",
       "Product_Name                0\n",
       "Claim                       0\n",
       "Duration                    0\n",
       "Destination                 0\n",
       "Net_Sales                   0\n",
       "Commision                   0\n",
       "Gender                  45107\n",
       "Age                         0\n",
       "dtype: int64>"
      ]
     },
     "execution_count": 8,
     "metadata": {},
     "output_type": "execute_result"
    }
   ],
   "source": [
    "df.isnull().sum().any\n"
   ]
  },
  {
   "cell_type": "code",
   "execution_count": 9,
   "id": "6063128b",
   "metadata": {
    "execution": {
     "iopub.execute_input": "2021-09-17T02:19:03.878600Z",
     "iopub.status.busy": "2021-09-17T02:19:03.877953Z",
     "iopub.status.idle": "2021-09-17T02:19:03.898914Z",
     "shell.execute_reply": "2021-09-17T02:19:03.899473Z",
     "shell.execute_reply.started": "2021-09-14T10:12:19.213926Z"
    },
    "papermill": {
     "duration": 0.060869,
     "end_time": "2021-09-17T02:19:03.899683",
     "exception": false,
     "start_time": "2021-09-17T02:19:03.838814",
     "status": "completed"
    },
    "tags": []
   },
   "outputs": [
    {
     "data": {
      "text/html": [
       "<div>\n",
       "<style scoped>\n",
       "    .dataframe tbody tr th:only-of-type {\n",
       "        vertical-align: middle;\n",
       "    }\n",
       "\n",
       "    .dataframe tbody tr th {\n",
       "        vertical-align: top;\n",
       "    }\n",
       "\n",
       "    .dataframe thead th {\n",
       "        text-align: right;\n",
       "    }\n",
       "</style>\n",
       "<table border=\"1\" class=\"dataframe\">\n",
       "  <thead>\n",
       "    <tr style=\"text-align: right;\">\n",
       "      <th></th>\n",
       "      <th>Agency</th>\n",
       "      <th>Agency_Type</th>\n",
       "      <th>Distribution_Channel</th>\n",
       "      <th>Product_Name</th>\n",
       "      <th>Claim</th>\n",
       "      <th>Duration</th>\n",
       "      <th>Destination</th>\n",
       "      <th>Net_Sales</th>\n",
       "      <th>Commision</th>\n",
       "      <th>Age</th>\n",
       "    </tr>\n",
       "  </thead>\n",
       "  <tbody>\n",
       "    <tr>\n",
       "      <th>0</th>\n",
       "      <td>CBH</td>\n",
       "      <td>Travel Agency</td>\n",
       "      <td>Offline</td>\n",
       "      <td>Comprehensive Plan</td>\n",
       "      <td>No</td>\n",
       "      <td>186</td>\n",
       "      <td>MALAYSIA</td>\n",
       "      <td>-29.0</td>\n",
       "      <td>9.57</td>\n",
       "      <td>81</td>\n",
       "    </tr>\n",
       "    <tr>\n",
       "      <th>1</th>\n",
       "      <td>CBH</td>\n",
       "      <td>Travel Agency</td>\n",
       "      <td>Offline</td>\n",
       "      <td>Comprehensive Plan</td>\n",
       "      <td>No</td>\n",
       "      <td>186</td>\n",
       "      <td>MALAYSIA</td>\n",
       "      <td>-29.0</td>\n",
       "      <td>9.57</td>\n",
       "      <td>71</td>\n",
       "    </tr>\n",
       "    <tr>\n",
       "      <th>2</th>\n",
       "      <td>CWT</td>\n",
       "      <td>Travel Agency</td>\n",
       "      <td>Online</td>\n",
       "      <td>Rental Vehicle Excess Insurance</td>\n",
       "      <td>No</td>\n",
       "      <td>65</td>\n",
       "      <td>AUSTRALIA</td>\n",
       "      <td>-49.5</td>\n",
       "      <td>29.70</td>\n",
       "      <td>32</td>\n",
       "    </tr>\n",
       "    <tr>\n",
       "      <th>3</th>\n",
       "      <td>CWT</td>\n",
       "      <td>Travel Agency</td>\n",
       "      <td>Online</td>\n",
       "      <td>Rental Vehicle Excess Insurance</td>\n",
       "      <td>No</td>\n",
       "      <td>60</td>\n",
       "      <td>AUSTRALIA</td>\n",
       "      <td>-39.6</td>\n",
       "      <td>23.76</td>\n",
       "      <td>32</td>\n",
       "    </tr>\n",
       "    <tr>\n",
       "      <th>4</th>\n",
       "      <td>CWT</td>\n",
       "      <td>Travel Agency</td>\n",
       "      <td>Online</td>\n",
       "      <td>Rental Vehicle Excess Insurance</td>\n",
       "      <td>No</td>\n",
       "      <td>79</td>\n",
       "      <td>ITALY</td>\n",
       "      <td>-19.8</td>\n",
       "      <td>11.88</td>\n",
       "      <td>41</td>\n",
       "    </tr>\n",
       "  </tbody>\n",
       "</table>\n",
       "</div>"
      ],
      "text/plain": [
       "  Agency    Agency_Type Distribution_Channel                     Product_Name  \\\n",
       "0    CBH  Travel Agency              Offline               Comprehensive Plan   \n",
       "1    CBH  Travel Agency              Offline               Comprehensive Plan   \n",
       "2    CWT  Travel Agency               Online  Rental Vehicle Excess Insurance   \n",
       "3    CWT  Travel Agency               Online  Rental Vehicle Excess Insurance   \n",
       "4    CWT  Travel Agency               Online  Rental Vehicle Excess Insurance   \n",
       "\n",
       "  Claim  Duration Destination  Net_Sales  Commision  Age  \n",
       "0    No       186    MALAYSIA      -29.0       9.57   81  \n",
       "1    No       186    MALAYSIA      -29.0       9.57   71  \n",
       "2    No        65   AUSTRALIA      -49.5      29.70   32  \n",
       "3    No        60   AUSTRALIA      -39.6      23.76   32  \n",
       "4    No        79       ITALY      -19.8      11.88   41  "
      ]
     },
     "execution_count": 9,
     "metadata": {},
     "output_type": "execute_result"
    }
   ],
   "source": [
    "df=df.drop(['Gender'], axis=1)\n",
    "df.head()"
   ]
  },
  {
   "cell_type": "markdown",
   "id": "84f0b708",
   "metadata": {
    "papermill": {
     "duration": 0.036299,
     "end_time": "2021-09-17T02:19:03.973175",
     "exception": false,
     "start_time": "2021-09-17T02:19:03.936876",
     "status": "completed"
    },
    "tags": []
   },
   "source": [
    "The Gender column has been dropped since majority of its values are null."
   ]
  },
  {
   "cell_type": "code",
   "execution_count": 10,
   "id": "9ae62d11",
   "metadata": {
    "execution": {
     "iopub.execute_input": "2021-09-17T02:19:04.064651Z",
     "iopub.status.busy": "2021-09-17T02:19:04.060229Z",
     "iopub.status.idle": "2021-09-17T02:19:04.096091Z",
     "shell.execute_reply": "2021-09-17T02:19:04.094469Z",
     "shell.execute_reply.started": "2021-09-14T10:12:23.203524Z"
    },
    "papermill": {
     "duration": 0.085764,
     "end_time": "2021-09-17T02:19:04.096278",
     "exception": false,
     "start_time": "2021-09-17T02:19:04.010514",
     "status": "completed"
    },
    "tags": []
   },
   "outputs": [
    {
     "name": "stdout",
     "output_type": "stream",
     "text": [
      "Unique elements of Agency are: \n",
      "['CBH' 'CWT' 'JZI' 'KML' 'EPX' 'C2B' 'JWT' 'RAB' 'SSI' 'ART' 'CSR' 'CCR'\n",
      " 'ADM' 'LWC' 'TTW' 'TST']\n",
      "\n",
      "Unique elements of Agency_Type are: \n",
      "['Travel Agency' 'Airlines']\n",
      "\n",
      "Unique elements of Distribution_Channel are: \n",
      "['Offline' 'Online']\n",
      "\n",
      "Unique elements of Product_Name are: \n",
      "['Comprehensive Plan' 'Rental Vehicle Excess Insurance' 'Value Plan'\n",
      " 'Basic Plan' 'Premier Plan' '2 way Comprehensive Plan' 'Bronze Plan'\n",
      " 'Silver Plan' 'Annual Silver Plan' 'Cancellation Plan'\n",
      " '1 way Comprehensive Plan' 'Ticket Protector' '24 Protect' 'Gold Plan'\n",
      " 'Annual Gold Plan' 'Single Trip Travel Protect Silver'\n",
      " 'Individual Comprehensive Plan' 'Spouse or Parents Comprehensive Plan'\n",
      " 'Annual Travel Protect Silver' 'Single Trip Travel Protect Platinum'\n",
      " 'Annual Travel Protect Gold' 'Single Trip Travel Protect Gold'\n",
      " 'Annual Travel Protect Platinum' 'Child Comprehensive Plan'\n",
      " 'Travel Cruise Protect' 'Travel Cruise Protect Family']\n",
      "\n",
      "Unique elements of Claim are: \n",
      "['No' 'Yes']\n",
      "\n",
      "Unique elements of Destination are: \n",
      "['MALAYSIA' 'AUSTRALIA' 'ITALY' 'UNITED STATES' 'THAILAND'\n",
      " \"KOREA, DEMOCRATIC PEOPLE'S REPUBLIC OF\" 'NORWAY' 'VIET NAM' 'DENMARK'\n",
      " 'SINGAPORE' 'JAPAN' 'UNITED KINGDOM' 'INDONESIA' 'INDIA' 'CHINA' 'FRANCE'\n",
      " 'TAIWAN, PROVINCE OF CHINA' 'PHILIPPINES' 'MYANMAR' 'HONG KONG'\n",
      " 'KOREA, REPUBLIC OF' 'UNITED ARAB EMIRATES' 'NAMIBIA' 'NEW ZEALAND'\n",
      " 'COSTA RICA' 'BRUNEI DARUSSALAM' 'POLAND' 'SPAIN' 'CZECH REPUBLIC'\n",
      " 'GERMANY' 'SRI LANKA' 'CAMBODIA' 'AUSTRIA' 'SOUTH AFRICA'\n",
      " 'TANZANIA, UNITED REPUBLIC OF' \"LAO PEOPLE'S DEMOCRATIC REPUBLIC\" 'NEPAL'\n",
      " 'NETHERLANDS' 'MACAO' 'CROATIA' 'FINLAND' 'CANADA' 'TUNISIA'\n",
      " 'RUSSIAN FEDERATION' 'GREECE' 'BELGIUM' 'IRELAND' 'SWITZERLAND' 'CHILE'\n",
      " 'ISRAEL' 'BANGLADESH' 'ICELAND' 'PORTUGAL' 'ROMANIA' 'KENYA' 'GEORGIA'\n",
      " 'TURKEY' 'SWEDEN' 'MALDIVES' 'ESTONIA' 'SAUDI ARABIA' 'PAKISTAN' 'QATAR'\n",
      " 'PERU' 'LUXEMBOURG' 'MONGOLIA' 'ARGENTINA' 'CYPRUS' 'FIJI' 'BARBADOS'\n",
      " 'TRINIDAD AND TOBAGO' 'ETHIOPIA' 'PAPUA NEW GUINEA' 'SERBIA' 'JORDAN'\n",
      " 'ECUADOR' 'BENIN' 'OMAN' 'BAHRAIN' 'UGANDA' 'BRAZIL' 'MEXICO' 'HUNGARY'\n",
      " 'AZERBAIJAN' 'MOROCCO' 'URUGUAY' 'MAURITIUS' 'JAMAICA' 'KAZAKHSTAN'\n",
      " 'GHANA' 'UZBEKISTAN' 'SLOVENIA' 'KUWAIT' 'GUAM' 'BULGARIA' 'LITHUANIA'\n",
      " 'NEW CALEDONIA' 'EGYPT' 'ARMENIA' 'BOLIVIA' 'VIRGIN ISLANDS, U.S.'\n",
      " 'PANAMA' 'SIERRA LEONE' 'COLOMBIA' 'PUERTO RICO' 'UKRAINE' 'GUINEA'\n",
      " 'GUADELOUPE' 'MOLDOVA, REPUBLIC OF' 'GUYANA' 'LATVIA' 'ZIMBABWE'\n",
      " 'VANUATU' 'VENEZUELA' 'BOTSWANA' 'BERMUDA' 'MALI' 'KYRGYZSTAN'\n",
      " 'CAYMAN ISLANDS' 'MALTA' 'LEBANON' 'REUNION' 'SEYCHELLES' 'ZAMBIA'\n",
      " 'SAMOA' 'NORTHERN MARIANA ISLANDS' 'NIGERIA' 'DOMINICAN REPUBLIC'\n",
      " 'TAJIKISTAN' 'ALBANIA' 'MACEDONIA, THE FORMER YUGOSLAV REPUBLIC OF'\n",
      " 'LIBYAN ARAB JAMAHIRIYA' 'ANGOLA' 'BELARUS' 'TURKS AND CAICOS ISLANDS'\n",
      " 'FAROE ISLANDS' 'TURKMENISTAN' 'GUINEA-BISSAU' 'CAMEROON' 'BHUTAN'\n",
      " 'RWANDA' 'SOLOMON ISLANDS' 'IRAN, ISLAMIC REPUBLIC OF' 'GUATEMALA'\n",
      " 'FRENCH POLYNESIA' 'TIBET' 'SENEGAL' 'REPUBLIC OF MONTENEGRO'\n",
      " 'BOSNIA AND HERZEGOVINA']\n",
      "\n"
     ]
    }
   ],
   "source": [
    "column_keys=df.select_dtypes(include=['object']).columns.tolist()\n",
    "for key in column_keys:\n",
    "    print('Unique elements of',key,'are: ')\n",
    "    print(df[key].unique(),end='\\n')\n",
    "    print(end='\\n')"
   ]
  },
  {
   "cell_type": "code",
   "execution_count": 11,
   "id": "fb467153",
   "metadata": {
    "execution": {
     "iopub.execute_input": "2021-09-17T02:19:04.184113Z",
     "iopub.status.busy": "2021-09-17T02:19:04.183397Z",
     "iopub.status.idle": "2021-09-17T02:19:05.371310Z",
     "shell.execute_reply": "2021-09-17T02:19:05.370809Z",
     "shell.execute_reply.started": "2021-09-14T10:12:26.278572Z"
    },
    "papermill": {
     "duration": 1.235984,
     "end_time": "2021-09-17T02:19:05.371466",
     "exception": false,
     "start_time": "2021-09-17T02:19:04.135482",
     "status": "completed"
    },
    "tags": []
   },
   "outputs": [
    {
     "data": {
      "text/html": [
       "        <script type=\"text/javascript\">\n",
       "        window.PlotlyConfig = {MathJaxConfig: 'local'};\n",
       "        if (window.MathJax) {MathJax.Hub.Config({SVG: {font: \"STIX-Web\"}});}\n",
       "        if (typeof require !== 'undefined') {\n",
       "        require.undef(\"plotly\");\n",
       "        requirejs.config({\n",
       "            paths: {\n",
       "                'plotly': ['https://cdn.plot.ly/plotly-2.4.2.min']\n",
       "            }\n",
       "        });\n",
       "        require(['plotly'], function(Plotly) {\n",
       "            window._Plotly = Plotly;\n",
       "        });\n",
       "        }\n",
       "        </script>\n",
       "        "
      ]
     },
     "metadata": {},
     "output_type": "display_data"
    },
    {
     "data": {
      "text/html": [
       "<div>                            <div id=\"69337da6-ef6e-4098-9e82-d3112530f0b4\" class=\"plotly-graph-div\" style=\"height:525px; width:100%;\"></div>            <script type=\"text/javascript\">                require([\"plotly\"], function(Plotly) {                    window.PLOTLYENV=window.PLOTLYENV || {};                                    if (document.getElementById(\"69337da6-ef6e-4098-9e82-d3112530f0b4\")) {                    Plotly.newPlot(                        \"69337da6-ef6e-4098-9e82-d3112530f0b4\",                        [{\"domain\":{\"x\":[0.0,1.0],\"y\":[0.0,1.0]},\"hovertemplate\":\"DestinationNew=%{label}<br>counts=%{value}<extra></extra>\",\"labels\":[\"Others\",\"Others\",\"Others\",\"Others\",\"AUSTRALIA\",\"Others\",\"Others\",\"Others\",\"Others\",\"Others\",\"Others\",\"Others\",\"Others\",\"Others\",\"Others\",\"Others\",\"Others\",\"Others\",\"Others\",\"Others\",\"Others\",\"Others\",\"Others\",\"Others\",\"Others\",\"Others\",\"CHINA\",\"Others\",\"Others\",\"Others\",\"Others\",\"Others\",\"Others\",\"Others\",\"Others\",\"Others\",\"Others\",\"Others\",\"Others\",\"Others\",\"Others\",\"Others\",\"Others\",\"Others\",\"Others\",\"Others\",\"Others\",\"Others\",\"Others\",\"Others\",\"Others\",\"Others\",\"Others\",\"HONG KONG\",\"Others\",\"Others\",\"INDIA\",\"INDONESIA\",\"Others\",\"Others\",\"Others\",\"Others\",\"Others\",\"JAPAN\",\"Others\",\"Others\",\"Others\",\"Others\",\"KOREA, REPUBLIC OF\",\"Others\",\"Others\",\"Others\",\"Others\",\"Others\",\"Others\",\"Others\",\"Others\",\"Others\",\"Others\",\"MALAYSIA\",\"Others\",\"Others\",\"Others\",\"Others\",\"Others\",\"Others\",\"Others\",\"Others\",\"Others\",\"Others\",\"Others\",\"Others\",\"Others\",\"Others\",\"Others\",\"Others\",\"Others\",\"Others\",\"Others\",\"Others\",\"Others\",\"Others\",\"PHILIPPINES\",\"Others\",\"Others\",\"Others\",\"Others\",\"Others\",\"Others\",\"Others\",\"Others\",\"Others\",\"Others\",\"Others\",\"Others\",\"Others\",\"Others\",\"Others\",\"SINGAPORE\",\"Others\",\"Others\",\"Others\",\"Others\",\"Others\",\"Others\",\"Others\",\"Others\",\"Others\",\"Others\",\"THAILAND\",\"Others\",\"Others\",\"Others\",\"Others\",\"Others\",\"Others\",\"Others\",\"Others\",\"Others\",\"UNITED KINGDOM\",\"UNITED STATES\",\"Others\",\"Others\",\"Others\",\"Others\",\"VIET NAM\",\"Others\",\"Others\",\"Others\"],\"legendgroup\":\"\",\"name\":\"\",\"showlegend\":true,\"type\":\"pie\",\"values\":[1,1,22,1,3694,102,8,13,101,1,3,46,1,3,4,10,1,1,37,780,12,493,1,528,2,12,4796,15,7,56,15,69,105,1,7,21,9,6,3,13,96,483,2,15,456,5,110,1,9,1,4,1,2,2411,23,117,2251,3452,3,123,48,455,3,2061,16,15,21,1,1479,8,6,149,3,5,1,5,9,110,3,5930,25,2,11,11,33,1,44,15,806,5,120,375,1,537,1,2,164,18,29,4,11,92,2490,34,96,3,17,1,2,23,80,1,1,62,1,7,1,1,13255,10,1,162,337,256,64,283,1090,1,21,5894,1,4,7,80,2,1,4,10,286,1309,2530,1,10,5,5,1669,1,3,3]}],                        {\"legend\":{\"tracegroupgap\":0},\"template\":{\"data\":{\"bar\":[{\"error_x\":{\"color\":\"#2a3f5f\"},\"error_y\":{\"color\":\"#2a3f5f\"},\"marker\":{\"line\":{\"color\":\"#E5ECF6\",\"width\":0.5},\"pattern\":{\"fillmode\":\"overlay\",\"size\":10,\"solidity\":0.2}},\"type\":\"bar\"}],\"barpolar\":[{\"marker\":{\"line\":{\"color\":\"#E5ECF6\",\"width\":0.5},\"pattern\":{\"fillmode\":\"overlay\",\"size\":10,\"solidity\":0.2}},\"type\":\"barpolar\"}],\"carpet\":[{\"aaxis\":{\"endlinecolor\":\"#2a3f5f\",\"gridcolor\":\"white\",\"linecolor\":\"white\",\"minorgridcolor\":\"white\",\"startlinecolor\":\"#2a3f5f\"},\"baxis\":{\"endlinecolor\":\"#2a3f5f\",\"gridcolor\":\"white\",\"linecolor\":\"white\",\"minorgridcolor\":\"white\",\"startlinecolor\":\"#2a3f5f\"},\"type\":\"carpet\"}],\"choropleth\":[{\"colorbar\":{\"outlinewidth\":0,\"ticks\":\"\"},\"type\":\"choropleth\"}],\"contour\":[{\"colorbar\":{\"outlinewidth\":0,\"ticks\":\"\"},\"colorscale\":[[0.0,\"#0d0887\"],[0.1111111111111111,\"#46039f\"],[0.2222222222222222,\"#7201a8\"],[0.3333333333333333,\"#9c179e\"],[0.4444444444444444,\"#bd3786\"],[0.5555555555555556,\"#d8576b\"],[0.6666666666666666,\"#ed7953\"],[0.7777777777777778,\"#fb9f3a\"],[0.8888888888888888,\"#fdca26\"],[1.0,\"#f0f921\"]],\"type\":\"contour\"}],\"contourcarpet\":[{\"colorbar\":{\"outlinewidth\":0,\"ticks\":\"\"},\"type\":\"contourcarpet\"}],\"heatmap\":[{\"colorbar\":{\"outlinewidth\":0,\"ticks\":\"\"},\"colorscale\":[[0.0,\"#0d0887\"],[0.1111111111111111,\"#46039f\"],[0.2222222222222222,\"#7201a8\"],[0.3333333333333333,\"#9c179e\"],[0.4444444444444444,\"#bd3786\"],[0.5555555555555556,\"#d8576b\"],[0.6666666666666666,\"#ed7953\"],[0.7777777777777778,\"#fb9f3a\"],[0.8888888888888888,\"#fdca26\"],[1.0,\"#f0f921\"]],\"type\":\"heatmap\"}],\"heatmapgl\":[{\"colorbar\":{\"outlinewidth\":0,\"ticks\":\"\"},\"colorscale\":[[0.0,\"#0d0887\"],[0.1111111111111111,\"#46039f\"],[0.2222222222222222,\"#7201a8\"],[0.3333333333333333,\"#9c179e\"],[0.4444444444444444,\"#bd3786\"],[0.5555555555555556,\"#d8576b\"],[0.6666666666666666,\"#ed7953\"],[0.7777777777777778,\"#fb9f3a\"],[0.8888888888888888,\"#fdca26\"],[1.0,\"#f0f921\"]],\"type\":\"heatmapgl\"}],\"histogram\":[{\"marker\":{\"pattern\":{\"fillmode\":\"overlay\",\"size\":10,\"solidity\":0.2}},\"type\":\"histogram\"}],\"histogram2d\":[{\"colorbar\":{\"outlinewidth\":0,\"ticks\":\"\"},\"colorscale\":[[0.0,\"#0d0887\"],[0.1111111111111111,\"#46039f\"],[0.2222222222222222,\"#7201a8\"],[0.3333333333333333,\"#9c179e\"],[0.4444444444444444,\"#bd3786\"],[0.5555555555555556,\"#d8576b\"],[0.6666666666666666,\"#ed7953\"],[0.7777777777777778,\"#fb9f3a\"],[0.8888888888888888,\"#fdca26\"],[1.0,\"#f0f921\"]],\"type\":\"histogram2d\"}],\"histogram2dcontour\":[{\"colorbar\":{\"outlinewidth\":0,\"ticks\":\"\"},\"colorscale\":[[0.0,\"#0d0887\"],[0.1111111111111111,\"#46039f\"],[0.2222222222222222,\"#7201a8\"],[0.3333333333333333,\"#9c179e\"],[0.4444444444444444,\"#bd3786\"],[0.5555555555555556,\"#d8576b\"],[0.6666666666666666,\"#ed7953\"],[0.7777777777777778,\"#fb9f3a\"],[0.8888888888888888,\"#fdca26\"],[1.0,\"#f0f921\"]],\"type\":\"histogram2dcontour\"}],\"mesh3d\":[{\"colorbar\":{\"outlinewidth\":0,\"ticks\":\"\"},\"type\":\"mesh3d\"}],\"parcoords\":[{\"line\":{\"colorbar\":{\"outlinewidth\":0,\"ticks\":\"\"}},\"type\":\"parcoords\"}],\"pie\":[{\"automargin\":true,\"type\":\"pie\"}],\"scatter\":[{\"marker\":{\"colorbar\":{\"outlinewidth\":0,\"ticks\":\"\"}},\"type\":\"scatter\"}],\"scatter3d\":[{\"line\":{\"colorbar\":{\"outlinewidth\":0,\"ticks\":\"\"}},\"marker\":{\"colorbar\":{\"outlinewidth\":0,\"ticks\":\"\"}},\"type\":\"scatter3d\"}],\"scattercarpet\":[{\"marker\":{\"colorbar\":{\"outlinewidth\":0,\"ticks\":\"\"}},\"type\":\"scattercarpet\"}],\"scattergeo\":[{\"marker\":{\"colorbar\":{\"outlinewidth\":0,\"ticks\":\"\"}},\"type\":\"scattergeo\"}],\"scattergl\":[{\"marker\":{\"colorbar\":{\"outlinewidth\":0,\"ticks\":\"\"}},\"type\":\"scattergl\"}],\"scattermapbox\":[{\"marker\":{\"colorbar\":{\"outlinewidth\":0,\"ticks\":\"\"}},\"type\":\"scattermapbox\"}],\"scatterpolar\":[{\"marker\":{\"colorbar\":{\"outlinewidth\":0,\"ticks\":\"\"}},\"type\":\"scatterpolar\"}],\"scatterpolargl\":[{\"marker\":{\"colorbar\":{\"outlinewidth\":0,\"ticks\":\"\"}},\"type\":\"scatterpolargl\"}],\"scatterternary\":[{\"marker\":{\"colorbar\":{\"outlinewidth\":0,\"ticks\":\"\"}},\"type\":\"scatterternary\"}],\"surface\":[{\"colorbar\":{\"outlinewidth\":0,\"ticks\":\"\"},\"colorscale\":[[0.0,\"#0d0887\"],[0.1111111111111111,\"#46039f\"],[0.2222222222222222,\"#7201a8\"],[0.3333333333333333,\"#9c179e\"],[0.4444444444444444,\"#bd3786\"],[0.5555555555555556,\"#d8576b\"],[0.6666666666666666,\"#ed7953\"],[0.7777777777777778,\"#fb9f3a\"],[0.8888888888888888,\"#fdca26\"],[1.0,\"#f0f921\"]],\"type\":\"surface\"}],\"table\":[{\"cells\":{\"fill\":{\"color\":\"#EBF0F8\"},\"line\":{\"color\":\"white\"}},\"header\":{\"fill\":{\"color\":\"#C8D4E3\"},\"line\":{\"color\":\"white\"}},\"type\":\"table\"}]},\"layout\":{\"annotationdefaults\":{\"arrowcolor\":\"#2a3f5f\",\"arrowhead\":0,\"arrowwidth\":1},\"autotypenumbers\":\"strict\",\"coloraxis\":{\"colorbar\":{\"outlinewidth\":0,\"ticks\":\"\"}},\"colorscale\":{\"diverging\":[[0,\"#8e0152\"],[0.1,\"#c51b7d\"],[0.2,\"#de77ae\"],[0.3,\"#f1b6da\"],[0.4,\"#fde0ef\"],[0.5,\"#f7f7f7\"],[0.6,\"#e6f5d0\"],[0.7,\"#b8e186\"],[0.8,\"#7fbc41\"],[0.9,\"#4d9221\"],[1,\"#276419\"]],\"sequential\":[[0.0,\"#0d0887\"],[0.1111111111111111,\"#46039f\"],[0.2222222222222222,\"#7201a8\"],[0.3333333333333333,\"#9c179e\"],[0.4444444444444444,\"#bd3786\"],[0.5555555555555556,\"#d8576b\"],[0.6666666666666666,\"#ed7953\"],[0.7777777777777778,\"#fb9f3a\"],[0.8888888888888888,\"#fdca26\"],[1.0,\"#f0f921\"]],\"sequentialminus\":[[0.0,\"#0d0887\"],[0.1111111111111111,\"#46039f\"],[0.2222222222222222,\"#7201a8\"],[0.3333333333333333,\"#9c179e\"],[0.4444444444444444,\"#bd3786\"],[0.5555555555555556,\"#d8576b\"],[0.6666666666666666,\"#ed7953\"],[0.7777777777777778,\"#fb9f3a\"],[0.8888888888888888,\"#fdca26\"],[1.0,\"#f0f921\"]]},\"colorway\":[\"#636efa\",\"#EF553B\",\"#00cc96\",\"#ab63fa\",\"#FFA15A\",\"#19d3f3\",\"#FF6692\",\"#B6E880\",\"#FF97FF\",\"#FECB52\"],\"font\":{\"color\":\"#2a3f5f\"},\"geo\":{\"bgcolor\":\"white\",\"lakecolor\":\"white\",\"landcolor\":\"#E5ECF6\",\"showlakes\":true,\"showland\":true,\"subunitcolor\":\"white\"},\"hoverlabel\":{\"align\":\"left\"},\"hovermode\":\"closest\",\"mapbox\":{\"style\":\"light\"},\"paper_bgcolor\":\"white\",\"plot_bgcolor\":\"#E5ECF6\",\"polar\":{\"angularaxis\":{\"gridcolor\":\"white\",\"linecolor\":\"white\",\"ticks\":\"\"},\"bgcolor\":\"#E5ECF6\",\"radialaxis\":{\"gridcolor\":\"white\",\"linecolor\":\"white\",\"ticks\":\"\"}},\"scene\":{\"xaxis\":{\"backgroundcolor\":\"#E5ECF6\",\"gridcolor\":\"white\",\"gridwidth\":2,\"linecolor\":\"white\",\"showbackground\":true,\"ticks\":\"\",\"zerolinecolor\":\"white\"},\"yaxis\":{\"backgroundcolor\":\"#E5ECF6\",\"gridcolor\":\"white\",\"gridwidth\":2,\"linecolor\":\"white\",\"showbackground\":true,\"ticks\":\"\",\"zerolinecolor\":\"white\"},\"zaxis\":{\"backgroundcolor\":\"#E5ECF6\",\"gridcolor\":\"white\",\"gridwidth\":2,\"linecolor\":\"white\",\"showbackground\":true,\"ticks\":\"\",\"zerolinecolor\":\"white\"}},\"shapedefaults\":{\"line\":{\"color\":\"#2a3f5f\"}},\"ternary\":{\"aaxis\":{\"gridcolor\":\"white\",\"linecolor\":\"white\",\"ticks\":\"\"},\"baxis\":{\"gridcolor\":\"white\",\"linecolor\":\"white\",\"ticks\":\"\"},\"bgcolor\":\"#E5ECF6\",\"caxis\":{\"gridcolor\":\"white\",\"linecolor\":\"white\",\"ticks\":\"\"}},\"title\":{\"x\":0.05},\"xaxis\":{\"automargin\":true,\"gridcolor\":\"white\",\"linecolor\":\"white\",\"ticks\":\"\",\"title\":{\"standoff\":15},\"zerolinecolor\":\"white\",\"zerolinewidth\":2},\"yaxis\":{\"automargin\":true,\"gridcolor\":\"white\",\"linecolor\":\"white\",\"ticks\":\"\",\"title\":{\"standoff\":15},\"zerolinecolor\":\"white\",\"zerolinewidth\":2}}},\"title\":{\"text\":\"Popular Destinations among insured\"}},                        {\"responsive\": true}                    ).then(function(){\n",
       "                            \n",
       "var gd = document.getElementById('69337da6-ef6e-4098-9e82-d3112530f0b4');\n",
       "var x = new MutationObserver(function (mutations, observer) {{\n",
       "        var display = window.getComputedStyle(gd).display;\n",
       "        if (!display || display === 'none') {{\n",
       "            console.log([gd, 'removed!']);\n",
       "            Plotly.purge(gd);\n",
       "            observer.disconnect();\n",
       "        }}\n",
       "}});\n",
       "\n",
       "// Listen for the removal of the full notebook cells\n",
       "var notebookContainer = gd.closest('#notebook-container');\n",
       "if (notebookContainer) {{\n",
       "    x.observe(notebookContainer, {childList: true});\n",
       "}}\n",
       "\n",
       "// Listen for the clearing of the current output cell\n",
       "var outputEl = gd.closest('.output');\n",
       "if (outputEl) {{\n",
       "    x.observe(outputEl, {childList: true});\n",
       "}}\n",
       "\n",
       "                        })                };                });            </script>        </div>"
      ]
     },
     "metadata": {},
     "output_type": "display_data"
    }
   ],
   "source": [
    "df1 = df.groupby(by=[\"Destination\"]).size().reset_index(name=\"counts\")\n",
    "df1.nlargest(15,['counts'])\n",
    "df1['DestinationNew'] = np.where(df1['counts']>1090, df1['Destination'], 'Others')\n",
    "fig = px.pie(df1, values='counts', names='DestinationNew', title='Popular Destinations among insured')\n",
    "fig.show()"
   ]
  },
  {
   "cell_type": "markdown",
   "id": "303fc47f",
   "metadata": {
    "papermill": {
     "duration": 0.037647,
     "end_time": "2021-09-17T02:19:05.447632",
     "exception": false,
     "start_time": "2021-09-17T02:19:05.409985",
     "status": "completed"
    },
    "tags": []
   },
   "source": [
    "A pie chart depicting 15 most popular destinations among travel insured.Here, I have grouped countries which have less than 1090 insurance policies together into others."
   ]
  },
  {
   "cell_type": "code",
   "execution_count": 12,
   "id": "3a5c341f",
   "metadata": {
    "execution": {
     "iopub.execute_input": "2021-09-17T02:19:05.547552Z",
     "iopub.status.busy": "2021-09-17T02:19:05.546907Z",
     "iopub.status.idle": "2021-09-17T02:19:05.766269Z",
     "shell.execute_reply": "2021-09-17T02:19:05.766749Z",
     "shell.execute_reply.started": "2021-09-14T10:12:52.073654Z"
    },
    "papermill": {
     "duration": 0.280862,
     "end_time": "2021-09-17T02:19:05.766931",
     "exception": false,
     "start_time": "2021-09-17T02:19:05.486069",
     "status": "completed"
    },
    "tags": []
   },
   "outputs": [
    {
     "data": {
      "image/png": "[encoded data removed]",
      "text/plain": [
       "<Figure size 720x360 with 1 Axes>"
      ]
     },
     "metadata": {
      "needs_background": "light"
     },
     "output_type": "display_data"
    }
   ],
   "source": [
    "fig = plt.figure(figsize = (10, 5))\n",
    "plt.hist(df['Age'])\n",
    "plt.xlabel(\"Age\")\n",
    "plt.ylabel(\"Number of people\")\n",
    "plt.title(\"Distribution of Age\")\n",
    "plt.show()"
   ]
  },
  {
   "cell_type": "markdown",
   "id": "d929cca1",
   "metadata": {
    "papermill": {
     "duration": 0.03789,
     "end_time": "2021-09-17T02:19:05.843560",
     "exception": false,
     "start_time": "2021-09-17T02:19:05.805670",
     "status": "completed"
    },
    "tags": []
   },
   "source": [
    "The above figure shows a histogram depicting the distribution of age. From the graph, the majory of people opting for travel insurance are of the age 35 to 50."
   ]
  },
  {
   "cell_type": "code",
   "execution_count": 13,
   "id": "c60c1fc2",
   "metadata": {
    "execution": {
     "iopub.execute_input": "2021-09-17T02:19:05.930621Z",
     "iopub.status.busy": "2021-09-17T02:19:05.929963Z",
     "iopub.status.idle": "2021-09-17T02:19:06.190445Z",
     "shell.execute_reply": "2021-09-17T02:19:06.189430Z",
     "shell.execute_reply.started": "2021-09-14T10:13:14.634847Z"
    },
    "papermill": {
     "duration": 0.308737,
     "end_time": "2021-09-17T02:19:06.190640",
     "exception": false,
     "start_time": "2021-09-17T02:19:05.881903",
     "status": "completed"
    },
    "tags": []
   },
   "outputs": [
    {
     "data": {
      "image/png": "[encoded data removed]",
      "text/plain": [
       "<Figure size 720x360 with 1 Axes>"
      ]
     },
     "metadata": {
      "needs_background": "light"
     },
     "output_type": "display_data"
    }
   ],
   "source": [
    "df2 = df.groupby(by=[\"Agency\"]).size().reset_index(name=\"counts\")\n",
    "fig = plt.figure(figsize = (10, 5))\n",
    "plt.bar(df2['Agency'], df2['counts'], color ='maroon', width = 0.4)\n",
    "plt.xlabel(\"Agency\")\n",
    "plt.ylabel(\"Number of people insured\")\n",
    "plt.title(\"People insured in different Insurance Agencies\")\n",
    "plt.show()"
   ]
  },
  {
   "cell_type": "markdown",
   "id": "1f8241b0",
   "metadata": {
    "papermill": {
     "duration": 0.039496,
     "end_time": "2021-09-17T02:19:06.269697",
     "exception": false,
     "start_time": "2021-09-17T02:19:06.230201",
     "status": "completed"
    },
    "tags": []
   },
   "source": [
    "The majority of people are insured under EPX agency."
   ]
  },
  {
   "cell_type": "code",
   "execution_count": 14,
   "id": "3dd77405",
   "metadata": {
    "execution": {
     "iopub.execute_input": "2021-09-17T02:19:06.358565Z",
     "iopub.status.busy": "2021-09-17T02:19:06.357922Z",
     "iopub.status.idle": "2021-09-17T02:19:06.404441Z",
     "shell.execute_reply": "2021-09-17T02:19:06.403886Z",
     "shell.execute_reply.started": "2021-09-14T10:13:33.424949Z"
    },
    "papermill": {
     "duration": 0.095577,
     "end_time": "2021-09-17T02:19:06.404616",
     "exception": false,
     "start_time": "2021-09-17T02:19:06.309039",
     "status": "completed"
    },
    "tags": []
   },
   "outputs": [
    {
     "data": {
      "text/html": [
       "<div>                            <div id=\"1995cd51-46da-45d9-a81a-31cab6c6f92e\" class=\"plotly-graph-div\" style=\"height:525px; width:100%;\"></div>            <script type=\"text/javascript\">                require([\"plotly\"], function(Plotly) {                    window.PLOTLYENV=window.PLOTLYENV || {};                                    if (document.getElementById(\"1995cd51-46da-45d9-a81a-31cab6c6f92e\")) {                    Plotly.newPlot(                        \"1995cd51-46da-45d9-a81a-31cab6c6f92e\",                        [{\"domain\":{\"x\":[0.0,1.0],\"y\":[0.0,1.0]},\"hovertemplate\":\"Product_Name=%{label}<br>counts=%{value}<extra></extra>\",\"labels\":[\"1 way Comprehensive Plan\",\"2 way Comprehensive Plan\",\"24 Protect\",\"Annual Gold Plan\",\"Annual Silver Plan\",\"Annual Travel Protect Gold\",\"Annual Travel Protect Platinum\",\"Annual Travel Protect Silver\",\"Basic Plan\",\"Bronze Plan\",\"Cancellation Plan\",\"Child Comprehensive Plan\",\"Comprehensive Plan\",\"Gold Plan\",\"Individual Comprehensive Plan\",\"Premier Plan\",\"Rental Vehicle Excess Insurance\",\"Silver Plan\",\"Single Trip Travel Protect Gold\",\"Single Trip Travel Protect Platinum\",\"Single Trip Travel Protect Silver\",\"Spouse or Parents Comprehensive Plan\",\"Ticket Protector\",\"Travel Cruise Protect\",\"Travel Cruise Protect Family\",\"Value Plan\"],\"legendgroup\":\"\",\"name\":\"\",\"showlegend\":true,\"type\":\"pie\",\"values\":[3331,13158,247,194,1423,100,53,86,5469,4049,18630,9,364,352,74,194,8580,2249,204,73,173,15,1056,527,1,2715]}],                        {\"legend\":{\"tracegroupgap\":0},\"template\":{\"data\":{\"bar\":[{\"error_x\":{\"color\":\"#2a3f5f\"},\"error_y\":{\"color\":\"#2a3f5f\"},\"marker\":{\"line\":{\"color\":\"#E5ECF6\",\"width\":0.5},\"pattern\":{\"fillmode\":\"overlay\",\"size\":10,\"solidity\":0.2}},\"type\":\"bar\"}],\"barpolar\":[{\"marker\":{\"line\":{\"color\":\"#E5ECF6\",\"width\":0.5},\"pattern\":{\"fillmode\":\"overlay\",\"size\":10,\"solidity\":0.2}},\"type\":\"barpolar\"}],\"carpet\":[{\"aaxis\":{\"endlinecolor\":\"#2a3f5f\",\"gridcolor\":\"white\",\"linecolor\":\"white\",\"minorgridcolor\":\"white\",\"startlinecolor\":\"#2a3f5f\"},\"baxis\":{\"endlinecolor\":\"#2a3f5f\",\"gridcolor\":\"white\",\"linecolor\":\"white\",\"minorgridcolor\":\"white\",\"startlinecolor\":\"#2a3f5f\"},\"type\":\"carpet\"}],\"choropleth\":[{\"colorbar\":{\"outlinewidth\":0,\"ticks\":\"\"},\"type\":\"choropleth\"}],\"contour\":[{\"colorbar\":{\"outlinewidth\":0,\"ticks\":\"\"},\"colorscale\":[[0.0,\"#0d0887\"],[0.1111111111111111,\"#46039f\"],[0.2222222222222222,\"#7201a8\"],[0.3333333333333333,\"#9c179e\"],[0.4444444444444444,\"#bd3786\"],[0.5555555555555556,\"#d8576b\"],[0.6666666666666666,\"#ed7953\"],[0.7777777777777778,\"#fb9f3a\"],[0.8888888888888888,\"#fdca26\"],[1.0,\"#f0f921\"]],\"type\":\"contour\"}],\"contourcarpet\":[{\"colorbar\":{\"outlinewidth\":0,\"ticks\":\"\"},\"type\":\"contourcarpet\"}],\"heatmap\":[{\"colorbar\":{\"outlinewidth\":0,\"ticks\":\"\"},\"colorscale\":[[0.0,\"#0d0887\"],[0.1111111111111111,\"#46039f\"],[0.2222222222222222,\"#7201a8\"],[0.3333333333333333,\"#9c179e\"],[0.4444444444444444,\"#bd3786\"],[0.5555555555555556,\"#d8576b\"],[0.6666666666666666,\"#ed7953\"],[0.7777777777777778,\"#fb9f3a\"],[0.8888888888888888,\"#fdca26\"],[1.0,\"#f0f921\"]],\"type\":\"heatmap\"}],\"heatmapgl\":[{\"colorbar\":{\"outlinewidth\":0,\"ticks\":\"\"},\"colorscale\":[[0.0,\"#0d0887\"],[0.1111111111111111,\"#46039f\"],[0.2222222222222222,\"#7201a8\"],[0.3333333333333333,\"#9c179e\"],[0.4444444444444444,\"#bd3786\"],[0.5555555555555556,\"#d8576b\"],[0.6666666666666666,\"#ed7953\"],[0.7777777777777778,\"#fb9f3a\"],[0.8888888888888888,\"#fdca26\"],[1.0,\"#f0f921\"]],\"type\":\"heatmapgl\"}],\"histogram\":[{\"marker\":{\"pattern\":{\"fillmode\":\"overlay\",\"size\":10,\"solidity\":0.2}},\"type\":\"histogram\"}],\"histogram2d\":[{\"colorbar\":{\"outlinewidth\":0,\"ticks\":\"\"},\"colorscale\":[[0.0,\"#0d0887\"],[0.1111111111111111,\"#46039f\"],[0.2222222222222222,\"#7201a8\"],[0.3333333333333333,\"#9c179e\"],[0.4444444444444444,\"#bd3786\"],[0.5555555555555556,\"#d8576b\"],[0.6666666666666666,\"#ed7953\"],[0.7777777777777778,\"#fb9f3a\"],[0.8888888888888888,\"#fdca26\"],[1.0,\"#f0f921\"]],\"type\":\"histogram2d\"}],\"histogram2dcontour\":[{\"colorbar\":{\"outlinewidth\":0,\"ticks\":\"\"},\"colorscale\":[[0.0,\"#0d0887\"],[0.1111111111111111,\"#46039f\"],[0.2222222222222222,\"#7201a8\"],[0.3333333333333333,\"#9c179e\"],[0.4444444444444444,\"#bd3786\"],[0.5555555555555556,\"#d8576b\"],[0.6666666666666666,\"#ed7953\"],[0.7777777777777778,\"#fb9f3a\"],[0.8888888888888888,\"#fdca26\"],[1.0,\"#f0f921\"]],\"type\":\"histogram2dcontour\"}],\"mesh3d\":[{\"colorbar\":{\"outlinewidth\":0,\"ticks\":\"\"},\"type\":\"mesh3d\"}],\"parcoords\":[{\"line\":{\"colorbar\":{\"outlinewidth\":0,\"ticks\":\"\"}},\"type\":\"parcoords\"}],\"pie\":[{\"automargin\":true,\"type\":\"pie\"}],\"scatter\":[{\"marker\":{\"colorbar\":{\"outlinewidth\":0,\"ticks\":\"\"}},\"type\":\"scatter\"}],\"scatter3d\":[{\"line\":{\"colorbar\":{\"outlinewidth\":0,\"ticks\":\"\"}},\"marker\":{\"colorbar\":{\"outlinewidth\":0,\"ticks\":\"\"}},\"type\":\"scatter3d\"}],\"scattercarpet\":[{\"marker\":{\"colorbar\":{\"outlinewidth\":0,\"ticks\":\"\"}},\"type\":\"scattercarpet\"}],\"scattergeo\":[{\"marker\":{\"colorbar\":{\"outlinewidth\":0,\"ticks\":\"\"}},\"type\":\"scattergeo\"}],\"scattergl\":[{\"marker\":{\"colorbar\":{\"outlinewidth\":0,\"ticks\":\"\"}},\"type\":\"scattergl\"}],\"scattermapbox\":[{\"marker\":{\"colorbar\":{\"outlinewidth\":0,\"ticks\":\"\"}},\"type\":\"scattermapbox\"}],\"scatterpolar\":[{\"marker\":{\"colorbar\":{\"outlinewidth\":0,\"ticks\":\"\"}},\"type\":\"scatterpolar\"}],\"scatterpolargl\":[{\"marker\":{\"colorbar\":{\"outlinewidth\":0,\"ticks\":\"\"}},\"type\":\"scatterpolargl\"}],\"scatterternary\":[{\"marker\":{\"colorbar\":{\"outlinewidth\":0,\"ticks\":\"\"}},\"type\":\"scatterternary\"}],\"surface\":[{\"colorbar\":{\"outlinewidth\":0,\"ticks\":\"\"},\"colorscale\":[[0.0,\"#0d0887\"],[0.1111111111111111,\"#46039f\"],[0.2222222222222222,\"#7201a8\"],[0.3333333333333333,\"#9c179e\"],[0.4444444444444444,\"#bd3786\"],[0.5555555555555556,\"#d8576b\"],[0.6666666666666666,\"#ed7953\"],[0.7777777777777778,\"#fb9f3a\"],[0.8888888888888888,\"#fdca26\"],[1.0,\"#f0f921\"]],\"type\":\"surface\"}],\"table\":[{\"cells\":{\"fill\":{\"color\":\"#EBF0F8\"},\"line\":{\"color\":\"white\"}},\"header\":{\"fill\":{\"color\":\"#C8D4E3\"},\"line\":{\"color\":\"white\"}},\"type\":\"table\"}]},\"layout\":{\"annotationdefaults\":{\"arrowcolor\":\"#2a3f5f\",\"arrowhead\":0,\"arrowwidth\":1},\"autotypenumbers\":\"strict\",\"coloraxis\":{\"colorbar\":{\"outlinewidth\":0,\"ticks\":\"\"}},\"colorscale\":{\"diverging\":[[0,\"#8e0152\"],[0.1,\"#c51b7d\"],[0.2,\"#de77ae\"],[0.3,\"#f1b6da\"],[0.4,\"#fde0ef\"],[0.5,\"#f7f7f7\"],[0.6,\"#e6f5d0\"],[0.7,\"#b8e186\"],[0.8,\"#7fbc41\"],[0.9,\"#4d9221\"],[1,\"#276419\"]],\"sequential\":[[0.0,\"#0d0887\"],[0.1111111111111111,\"#46039f\"],[0.2222222222222222,\"#7201a8\"],[0.3333333333333333,\"#9c179e\"],[0.4444444444444444,\"#bd3786\"],[0.5555555555555556,\"#d8576b\"],[0.6666666666666666,\"#ed7953\"],[0.7777777777777778,\"#fb9f3a\"],[0.8888888888888888,\"#fdca26\"],[1.0,\"#f0f921\"]],\"sequentialminus\":[[0.0,\"#0d0887\"],[0.1111111111111111,\"#46039f\"],[0.2222222222222222,\"#7201a8\"],[0.3333333333333333,\"#9c179e\"],[0.4444444444444444,\"#bd3786\"],[0.5555555555555556,\"#d8576b\"],[0.6666666666666666,\"#ed7953\"],[0.7777777777777778,\"#fb9f3a\"],[0.8888888888888888,\"#fdca26\"],[1.0,\"#f0f921\"]]},\"colorway\":[\"#636efa\",\"#EF553B\",\"#00cc96\",\"#ab63fa\",\"#FFA15A\",\"#19d3f3\",\"#FF6692\",\"#B6E880\",\"#FF97FF\",\"#FECB52\"],\"font\":{\"color\":\"#2a3f5f\"},\"geo\":{\"bgcolor\":\"white\",\"lakecolor\":\"white\",\"landcolor\":\"#E5ECF6\",\"showlakes\":true,\"showland\":true,\"subunitcolor\":\"white\"},\"hoverlabel\":{\"align\":\"left\"},\"hovermode\":\"closest\",\"mapbox\":{\"style\":\"light\"},\"paper_bgcolor\":\"white\",\"plot_bgcolor\":\"#E5ECF6\",\"polar\":{\"angularaxis\":{\"gridcolor\":\"white\",\"linecolor\":\"white\",\"ticks\":\"\"},\"bgcolor\":\"#E5ECF6\",\"radialaxis\":{\"gridcolor\":\"white\",\"linecolor\":\"white\",\"ticks\":\"\"}},\"scene\":{\"xaxis\":{\"backgroundcolor\":\"#E5ECF6\",\"gridcolor\":\"white\",\"gridwidth\":2,\"linecolor\":\"white\",\"showbackground\":true,\"ticks\":\"\",\"zerolinecolor\":\"white\"},\"yaxis\":{\"backgroundcolor\":\"#E5ECF6\",\"gridcolor\":\"white\",\"gridwidth\":2,\"linecolor\":\"white\",\"showbackground\":true,\"ticks\":\"\",\"zerolinecolor\":\"white\"},\"zaxis\":{\"backgroundcolor\":\"#E5ECF6\",\"gridcolor\":\"white\",\"gridwidth\":2,\"linecolor\":\"white\",\"showbackground\":true,\"ticks\":\"\",\"zerolinecolor\":\"white\"}},\"shapedefaults\":{\"line\":{\"color\":\"#2a3f5f\"}},\"ternary\":{\"aaxis\":{\"gridcolor\":\"white\",\"linecolor\":\"white\",\"ticks\":\"\"},\"baxis\":{\"gridcolor\":\"white\",\"linecolor\":\"white\",\"ticks\":\"\"},\"bgcolor\":\"#E5ECF6\",\"caxis\":{\"gridcolor\":\"white\",\"linecolor\":\"white\",\"ticks\":\"\"}},\"title\":{\"x\":0.05},\"xaxis\":{\"automargin\":true,\"gridcolor\":\"white\",\"linecolor\":\"white\",\"ticks\":\"\",\"title\":{\"standoff\":15},\"zerolinecolor\":\"white\",\"zerolinewidth\":2},\"yaxis\":{\"automargin\":true,\"gridcolor\":\"white\",\"linecolor\":\"white\",\"ticks\":\"\",\"title\":{\"standoff\":15},\"zerolinecolor\":\"white\",\"zerolinewidth\":2}}},\"title\":{\"text\":\"People insured under different plans\"}},                        {\"responsive\": true}                    ).then(function(){\n",
       "                            \n",
       "var gd = document.getElementById('1995cd51-46da-45d9-a81a-31cab6c6f92e');\n",
       "var x = new MutationObserver(function (mutations, observer) {{\n",
       "        var display = window.getComputedStyle(gd).display;\n",
       "        if (!display || display === 'none') {{\n",
       "            console.log([gd, 'removed!']);\n",
       "            Plotly.purge(gd);\n",
       "            observer.disconnect();\n",
       "        }}\n",
       "}});\n",
       "\n",
       "// Listen for the removal of the full notebook cells\n",
       "var notebookContainer = gd.closest('#notebook-container');\n",
       "if (notebookContainer) {{\n",
       "    x.observe(notebookContainer, {childList: true});\n",
       "}}\n",
       "\n",
       "// Listen for the clearing of the current output cell\n",
       "var outputEl = gd.closest('.output');\n",
       "if (outputEl) {{\n",
       "    x.observe(outputEl, {childList: true});\n",
       "}}\n",
       "\n",
       "                        })                };                });            </script>        </div>"
      ]
     },
     "metadata": {},
     "output_type": "display_data"
    }
   ],
   "source": [
    "df3 = df.groupby(by=[\"Product_Name\"]).size().reset_index(name=\"counts\")\n",
    "fig = px.pie(df3, values='counts', names='Product_Name', title='People insured under different plans')\n",
    "fig.show()"
   ]
  },
  {
   "cell_type": "markdown",
   "id": "c398152e",
   "metadata": {
    "papermill": {
     "duration": 0.040241,
     "end_time": "2021-09-17T02:19:06.485674",
     "exception": false,
     "start_time": "2021-09-17T02:19:06.445433",
     "status": "completed"
    },
    "tags": []
   },
   "source": [
    "The pie chart depicts that majority of travel insured people have opted for Cancellation Plan."
   ]
  },
  {
   "cell_type": "code",
   "execution_count": 15,
   "id": "9f9e9b7f",
   "metadata": {
    "execution": {
     "iopub.execute_input": "2021-09-17T02:19:06.575176Z",
     "iopub.status.busy": "2021-09-17T02:19:06.574405Z",
     "iopub.status.idle": "2021-09-17T02:19:06.840764Z",
     "shell.execute_reply": "2021-09-17T02:19:06.840199Z",
     "shell.execute_reply.started": "2021-09-14T10:14:06.634874Z"
    },
    "papermill": {
     "duration": 0.313735,
     "end_time": "2021-09-17T02:19:06.840923",
     "exception": false,
     "start_time": "2021-09-17T02:19:06.527188",
     "status": "completed"
    },
    "tags": []
   },
   "outputs": [
    {
     "data": {
      "image/png": "[encoded data removed]",
      "text/plain": [
       "<Figure size 720x360 with 1 Axes>"
      ]
     },
     "metadata": {
      "needs_background": "light"
     },
     "output_type": "display_data"
    }
   ],
   "source": [
    "df4=df.groupby(by=['Agency']).mean().reset_index()\n",
    "df4.head()\n",
    "fig = plt.figure(figsize = (10, 5))\n",
    "plt.bar(df4['Agency'], df4['Commision'], color ='green', width = 0.4)\n",
    "plt.xlabel(\"Agency\")\n",
    "plt.ylabel(\"Avg. Commision\")\n",
    "plt.title(\"Average commision of agents in various agency\")\n",
    "plt.show()"
   ]
  },
  {
   "cell_type": "markdown",
   "id": "0ee81346",
   "metadata": {
    "papermill": {
     "duration": 0.040748,
     "end_time": "2021-09-17T02:19:06.923312",
     "exception": false,
     "start_time": "2021-09-17T02:19:06.882564",
     "status": "completed"
    },
    "tags": []
   },
   "source": [
    "LWC is the agency that gives maximum commision to its agents while EPX gives NIL."
   ]
  },
  {
   "cell_type": "code",
   "execution_count": 16,
   "id": "cf9326e6",
   "metadata": {
    "execution": {
     "iopub.execute_input": "2021-09-17T02:19:07.010071Z",
     "iopub.status.busy": "2021-09-17T02:19:07.008981Z",
     "iopub.status.idle": "2021-09-17T02:19:07.258694Z",
     "shell.execute_reply": "2021-09-17T02:19:07.258019Z",
     "shell.execute_reply.started": "2021-09-14T10:14:32.429452Z"
    },
    "papermill": {
     "duration": 0.294408,
     "end_time": "2021-09-17T02:19:07.258857",
     "exception": false,
     "start_time": "2021-09-17T02:19:06.964449",
     "status": "completed"
    },
    "tags": []
   },
   "outputs": [
    {
     "data": {
      "image/png": "[encoded data removed]",
      "text/plain": [
       "<Figure size 720x360 with 1 Axes>"
      ]
     },
     "metadata": {
      "needs_background": "light"
     },
     "output_type": "display_data"
    }
   ],
   "source": [
    "fig = plt.figure(figsize = (10, 5))\n",
    "plt.bar(df4['Agency'], df4['Net_Sales'], color ='pink', width = 0.4)\n",
    "plt.xlabel(\"Agency\")\n",
    "plt.ylabel(\"Avg. Net Sales\")\n",
    "plt.title(\"Average Net Sales per agency\")\n",
    "plt.show()"
   ]
  },
  {
   "cell_type": "markdown",
   "id": "e7f43d72",
   "metadata": {
    "papermill": {
     "duration": 0.042675,
     "end_time": "2021-09-17T02:19:07.343453",
     "exception": false,
     "start_time": "2021-09-17T02:19:07.300778",
     "status": "completed"
    },
    "tags": []
   },
   "source": [
    "The net sales are highest for LWC while lowest for SSI."
   ]
  },
  {
   "cell_type": "code",
   "execution_count": 17,
   "id": "693d3d4e",
   "metadata": {
    "execution": {
     "iopub.execute_input": "2021-09-17T02:19:07.432439Z",
     "iopub.status.busy": "2021-09-17T02:19:07.431292Z",
     "iopub.status.idle": "2021-09-17T02:19:07.611730Z",
     "shell.execute_reply": "2021-09-17T02:19:07.612304Z",
     "shell.execute_reply.started": "2021-09-14T10:14:52.273547Z"
    },
    "papermill": {
     "duration": 0.226737,
     "end_time": "2021-09-17T02:19:07.612497",
     "exception": false,
     "start_time": "2021-09-17T02:19:07.385760",
     "status": "completed"
    },
    "tags": []
   },
   "outputs": [
    {
     "data": {
      "image/png": "[encoded data removed]",
      "text/plain": [
       "<Figure size 432x288 with 1 Axes>"
      ]
     },
     "metadata": {
      "needs_background": "light"
     },
     "output_type": "display_data"
    }
   ],
   "source": [
    "df5=df.groupby(by=['Distribution_Channel']).size().reset_index(name=\"counts\")\n",
    "plt.bar(df5['Distribution_Channel'], df5['counts'], color ='purple',width = 0.4)\n",
    "plt.xlabel(\"Distribution Channel\")\n",
    "plt.ylabel(\"Number of people insured\")\n",
    "plt.title(\"People insured under different Distribution Channel\")\n",
    "plt.show()"
   ]
  },
  {
   "cell_type": "markdown",
   "id": "3ac5f76a",
   "metadata": {
    "papermill": {
     "duration": 0.041844,
     "end_time": "2021-09-17T02:19:07.698130",
     "exception": false,
     "start_time": "2021-09-17T02:19:07.656286",
     "status": "completed"
    },
    "tags": []
   },
   "source": [
    "Majority of people have opted for online mode of insurance distribution channel."
   ]
  },
  {
   "cell_type": "code",
   "execution_count": 18,
   "id": "90dbcdf1",
   "metadata": {
    "execution": {
     "iopub.execute_input": "2021-09-17T02:19:07.794232Z",
     "iopub.status.busy": "2021-09-17T02:19:07.793563Z",
     "iopub.status.idle": "2021-09-17T02:19:07.930768Z",
     "shell.execute_reply": "2021-09-17T02:19:07.930148Z",
     "shell.execute_reply.started": "2021-09-14T10:15:17.535129Z"
    },
    "papermill": {
     "duration": 0.190666,
     "end_time": "2021-09-17T02:19:07.930912",
     "exception": false,
     "start_time": "2021-09-17T02:19:07.740246",
     "status": "completed"
    },
    "tags": []
   },
   "outputs": [
    {
     "data": {
      "image/png": "[encoded data removed]",
      "text/plain": [
       "<Figure size 432x288 with 1 Axes>"
      ]
     },
     "metadata": {},
     "output_type": "display_data"
    }
   ],
   "source": [
    "df6=df.loc[df['Claim']=='Yes']\n",
    "df7= df6.groupby(by=[\"Destination\"]).size().reset_index(name=\"counts\")\n",
    "df8=df7.nlargest(5,['counts'])\n",
    "my_circle = plt.Circle((0, 0), 0.6, color='white')\n",
    "plt.pie(df8['counts'], labels=df8['Destination'], autopct='%1.1f%%', colors=Pastel1_7.hex_colors)\n",
    "plt.title('Top 5 countries where insured are raising claim requests')\n",
    "p = plt.gcf()\n",
    "p.gca().add_artist(my_circle)\n",
    "plt.show()"
   ]
  },
  {
   "cell_type": "markdown",
   "id": "fd43edde",
   "metadata": {
    "papermill": {
     "duration": 0.043575,
     "end_time": "2021-09-17T02:19:08.017645",
     "exception": false,
     "start_time": "2021-09-17T02:19:07.974070",
     "status": "completed"
    },
    "tags": []
   },
   "source": [
    "Singapore tops the list with maximum number of claim request filed. "
   ]
  },
  {
   "cell_type": "code",
   "execution_count": 19,
   "id": "76aeeb6e",
   "metadata": {
    "execution": {
     "iopub.execute_input": "2021-09-17T02:19:08.138816Z",
     "iopub.status.busy": "2021-09-17T02:19:08.136414Z",
     "iopub.status.idle": "2021-09-17T02:19:08.239325Z",
     "shell.execute_reply": "2021-09-17T02:19:08.238568Z",
     "shell.execute_reply.started": "2021-09-14T10:15:37.174843Z"
    },
    "papermill": {
     "duration": 0.178657,
     "end_time": "2021-09-17T02:19:08.239486",
     "exception": false,
     "start_time": "2021-09-17T02:19:08.060829",
     "status": "completed"
    },
    "tags": []
   },
   "outputs": [
    {
     "data": {
      "image/png": "[encoded data removed]",
      "text/plain": [
       "<Figure size 432x288 with 1 Axes>"
      ]
     },
     "metadata": {},
     "output_type": "display_data"
    }
   ],
   "source": [
    "df9= df6.groupby(by=[\"Product_Name\"]).size().reset_index(name=\"counts\")\n",
    "df10=df9.nlargest(5,['counts'])\n",
    "my_circle = plt.Circle((0, 0), 0.6, color='white')\n",
    "plt.pie(df10['counts'], labels=df10['Product_Name'], autopct='%1.1f%%',colors=Pastel1_7.hex_colors)\n",
    "plt.title('Top 5 plans where insured are raising claim requests')\n",
    "p = plt.gcf()\n",
    "p.gca().add_artist(my_circle)\n",
    "plt.show()"
   ]
  },
  {
   "cell_type": "markdown",
   "id": "e5002c5a",
   "metadata": {
    "papermill": {
     "duration": 0.043776,
     "end_time": "2021-09-17T02:19:08.327827",
     "exception": false,
     "start_time": "2021-09-17T02:19:08.284051",
     "status": "completed"
    },
    "tags": []
   },
   "source": [
    "The majority claim requests are coming from Bronze Plan and Annual Silver Plan."
   ]
  },
  {
   "cell_type": "code",
   "execution_count": 20,
   "id": "3cd6420b",
   "metadata": {
    "execution": {
     "iopub.execute_input": "2021-09-17T02:19:08.429391Z",
     "iopub.status.busy": "2021-09-17T02:19:08.425984Z",
     "iopub.status.idle": "2021-09-17T02:19:08.537322Z",
     "shell.execute_reply": "2021-09-17T02:19:08.536700Z",
     "shell.execute_reply.started": "2021-09-14T10:15:57.124376Z"
    },
    "papermill": {
     "duration": 0.164593,
     "end_time": "2021-09-17T02:19:08.537469",
     "exception": false,
     "start_time": "2021-09-17T02:19:08.372876",
     "status": "completed"
    },
    "tags": []
   },
   "outputs": [
    {
     "data": {
      "image/png": "[encoded data removed]",
      "text/plain": [
       "<Figure size 432x288 with 1 Axes>"
      ]
     },
     "metadata": {},
     "output_type": "display_data"
    }
   ],
   "source": [
    "df11= df6.groupby(by=[\"Agency\"]).size().reset_index(name=\"counts\")\n",
    "df12=df11.nlargest(5,['counts'])\n",
    "my_circle = plt.Circle((0, 0), 0.6, color='white')\n",
    "plt.pie(df12['counts'], labels=df12['Agency'], autopct='%1.1f%%', colors=Pastel1_7.hex_colors)\n",
    "plt.title('Top 5 Agencies where insured are raising claim requests')\n",
    "p = plt.gcf()\n",
    "p.gca().add_artist(my_circle)\n",
    "plt.show()"
   ]
  },
  {
   "cell_type": "markdown",
   "id": "bac9d479",
   "metadata": {
    "papermill": {
     "duration": 0.044743,
     "end_time": "2021-09-17T02:19:08.628103",
     "exception": false,
     "start_time": "2021-09-17T02:19:08.583360",
     "status": "completed"
    },
    "tags": []
   },
   "source": [
    "The maximum claim requests have come to the agency called C2B."
   ]
  },
  {
   "cell_type": "code",
   "execution_count": 21,
   "id": "3ec209f1",
   "metadata": {
    "execution": {
     "iopub.execute_input": "2021-09-17T02:19:08.726371Z",
     "iopub.status.busy": "2021-09-17T02:19:08.721937Z",
     "iopub.status.idle": "2021-09-17T02:19:08.893975Z",
     "shell.execute_reply": "2021-09-17T02:19:08.893257Z",
     "shell.execute_reply.started": "2021-09-14T10:16:15.634292Z"
    },
    "papermill": {
     "duration": 0.22024,
     "end_time": "2021-09-17T02:19:08.894129",
     "exception": false,
     "start_time": "2021-09-17T02:19:08.673889",
     "status": "completed"
    },
    "tags": []
   },
   "outputs": [
    {
     "data": {
      "image/png": "[encoded data removed]",
      "text/plain": [
       "<Figure size 432x288 with 1 Axes>"
      ]
     },
     "metadata": {
      "needs_background": "light"
     },
     "output_type": "display_data"
    }
   ],
   "source": [
    "df13=df.groupby(by=['Agency_Type']).size().reset_index(name=\"counts\")\n",
    "plt.bar(df13['Agency_Type'], df13['counts'], color ='red',width = 0.4)\n",
    "plt.xlabel(\"Agency Type\")\n",
    "plt.ylabel(\"Number of people insured\")\n",
    "plt.title(\"People insured under different Agency Type\")\n",
    "plt.show()"
   ]
  },
  {
   "cell_type": "markdown",
   "id": "96911565",
   "metadata": {
    "papermill": {
     "duration": 0.04698,
     "end_time": "2021-09-17T02:19:08.996778",
     "exception": false,
     "start_time": "2021-09-17T02:19:08.949798",
     "status": "completed"
    },
    "tags": []
   },
   "source": [
    "Majority of people have got their insurance via Travel Agency."
   ]
  },
  {
   "cell_type": "code",
   "execution_count": 22,
   "id": "f0e6dc3e",
   "metadata": {
    "execution": {
     "iopub.execute_input": "2021-09-17T02:19:09.098603Z",
     "iopub.status.busy": "2021-09-17T02:19:09.097863Z",
     "iopub.status.idle": "2021-09-17T02:19:09.271521Z",
     "shell.execute_reply": "2021-09-17T02:19:09.270564Z",
     "shell.execute_reply.started": "2021-09-14T10:16:41.075846Z"
    },
    "papermill": {
     "duration": 0.229413,
     "end_time": "2021-09-17T02:19:09.271704",
     "exception": false,
     "start_time": "2021-09-17T02:19:09.042291",
     "status": "completed"
    },
    "tags": []
   },
   "outputs": [
    {
     "data": {
      "image/png": "[encoded data removed]",
      "text/plain": [
       "<Figure size 432x288 with 1 Axes>"
      ]
     },
     "metadata": {
      "needs_background": "light"
     },
     "output_type": "display_data"
    }
   ],
   "source": [
    "df14 = df.groupby(by=[\"Claim\"]).size().reset_index(name=\"counts\")\n",
    "plt.bar(df14['Claim'], df14['counts'], color ='grey',width = 0.4)\n",
    "plt.xlabel(\"Claim\")\n",
    "plt.ylabel(\"Number of people insured\")\n",
    "plt.title(\"People Insured who requested for claim vs who did not\")\n",
    "plt.show()"
   ]
  },
  {
   "cell_type": "markdown",
   "id": "b196ff45",
   "metadata": {
    "papermill": {
     "duration": 0.048079,
     "end_time": "2021-09-17T02:19:09.368347",
     "exception": false,
     "start_time": "2021-09-17T02:19:09.320268",
     "status": "completed"
    },
    "tags": []
   },
   "source": [
    "Around 900 people have requested for claim out of total policy holders which is around 1.4%."
   ]
  },
  {
   "cell_type": "code",
   "execution_count": 23,
   "id": "bb0d8378",
   "metadata": {
    "execution": {
     "iopub.execute_input": "2021-09-17T02:19:09.491417Z",
     "iopub.status.busy": "2021-09-17T02:19:09.490785Z",
     "iopub.status.idle": "2021-09-17T02:19:09.586103Z",
     "shell.execute_reply": "2021-09-17T02:19:09.586890Z",
     "shell.execute_reply.started": "2021-09-14T10:17:06.215491Z"
    },
    "papermill": {
     "duration": 0.171536,
     "end_time": "2021-09-17T02:19:09.587194",
     "exception": false,
     "start_time": "2021-09-17T02:19:09.415658",
     "status": "completed"
    },
    "tags": []
   },
   "outputs": [
    {
     "data": {
      "image/png": "[encoded data removed]",
      "text/plain": [
       "<Figure size 432x288 with 1 Axes>"
      ]
     },
     "metadata": {
      "needs_background": "light"
     },
     "output_type": "display_data"
    }
   ],
   "source": [
    "fig = plt.figure(figsize =(6,4 ))\n",
    "plt.boxplot(df['Duration'])\n",
    "plt.show()"
   ]
  },
  {
   "cell_type": "markdown",
   "id": "145c4a63",
   "metadata": {
    "execution": {
     "iopub.execute_input": "2021-09-14T10:17:16.654416Z",
     "iopub.status.busy": "2021-09-14T10:17:16.654112Z",
     "iopub.status.idle": "2021-09-14T10:17:16.660288Z",
     "shell.execute_reply": "2021-09-14T10:17:16.659373Z",
     "shell.execute_reply.started": "2021-09-14T10:17:16.654388Z"
    },
    "papermill": {
     "duration": 0.048656,
     "end_time": "2021-09-17T02:19:09.700297",
     "exception": false,
     "start_time": "2021-09-17T02:19:09.651641",
     "status": "completed"
    },
    "tags": []
   },
   "source": [
    "The boxplot shows data distribution of the Duration feature. We can see that there are some outliers depicting negative values of duration i.e. Time which ideally is not possible."
   ]
  },
  {
   "cell_type": "code",
   "execution_count": 24,
   "id": "96d32c54",
   "metadata": {
    "execution": {
     "iopub.execute_input": "2021-09-17T02:19:09.801662Z",
     "iopub.status.busy": "2021-09-17T02:19:09.801012Z",
     "iopub.status.idle": "2021-09-17T02:19:09.812798Z",
     "shell.execute_reply": "2021-09-17T02:19:09.812284Z",
     "shell.execute_reply.started": "2021-09-14T10:17:32.931197Z"
    },
    "papermill": {
     "duration": 0.064691,
     "end_time": "2021-09-17T02:19:09.812968",
     "exception": false,
     "start_time": "2021-09-17T02:19:09.748277",
     "status": "completed"
    },
    "tags": []
   },
   "outputs": [],
   "source": [
    "index_duration = df[df['Duration'] < 0 ].index\n",
    "df.drop(index_duration, inplace = True)"
   ]
  },
  {
   "cell_type": "markdown",
   "id": "dba0c479",
   "metadata": {
    "papermill": {
     "duration": 0.048259,
     "end_time": "2021-09-17T02:19:09.908500",
     "exception": false,
     "start_time": "2021-09-17T02:19:09.860241",
     "status": "completed"
    },
    "tags": []
   },
   "source": [
    "Dropped off negative values of Duration column."
   ]
  },
  {
   "cell_type": "code",
   "execution_count": 25,
   "id": "166f3915",
   "metadata": {
    "execution": {
     "iopub.execute_input": "2021-09-17T02:19:10.018231Z",
     "iopub.status.busy": "2021-09-17T02:19:10.017502Z",
     "iopub.status.idle": "2021-09-17T02:19:10.091795Z",
     "shell.execute_reply": "2021-09-17T02:19:10.092326Z",
     "shell.execute_reply.started": "2021-09-14T10:17:51.273336Z"
    },
    "papermill": {
     "duration": 0.135448,
     "end_time": "2021-09-17T02:19:10.092518",
     "exception": false,
     "start_time": "2021-09-17T02:19:09.957070",
     "status": "completed"
    },
    "tags": []
   },
   "outputs": [],
   "source": [
    "from sklearn import preprocessing\n",
    "label_encoder1 = preprocessing.LabelEncoder()\n",
    "df['Agency']= label_encoder1.fit_transform(df['Agency'])\n",
    "  \n",
    "label_encoder2 = preprocessing.LabelEncoder()\n",
    "df['Agency_Type']= label_encoder2.fit_transform(df['Agency_Type'])\n",
    "\n",
    "label_encoder3 = preprocessing.LabelEncoder()\n",
    "df['Distribution_Channel']= label_encoder3.fit_transform(df['Distribution_Channel'])\n",
    "\n",
    "label_encoder4 = preprocessing.LabelEncoder()\n",
    "df['Product_Name']= label_encoder4.fit_transform(df['Product_Name'])\n",
    "\n",
    "label_encoder5 = preprocessing.LabelEncoder()\n",
    "df['Claim']= label_encoder5.fit_transform(df['Claim'])\n",
    "\n",
    "\n",
    "label_encoder6 = preprocessing.LabelEncoder()\n",
    "df['Destination']= label_encoder6.fit_transform(df['Destination'])\n"
   ]
  },
  {
   "cell_type": "markdown",
   "id": "d56bc4ed",
   "metadata": {
    "papermill": {
     "duration": 0.048968,
     "end_time": "2021-09-17T02:19:10.189906",
     "exception": false,
     "start_time": "2021-09-17T02:19:10.140938",
     "status": "completed"
    },
    "tags": []
   },
   "source": [
    "Label encoding is used to transform categorical features."
   ]
  },
  {
   "cell_type": "code",
   "execution_count": 26,
   "id": "68a87718",
   "metadata": {
    "execution": {
     "iopub.execute_input": "2021-09-17T02:19:10.298696Z",
     "iopub.status.busy": "2021-09-17T02:19:10.291267Z",
     "iopub.status.idle": "2021-09-17T02:19:10.308590Z",
     "shell.execute_reply": "2021-09-17T02:19:10.308041Z",
     "shell.execute_reply.started": "2021-09-14T10:18:19.114324Z"
    },
    "papermill": {
     "duration": 0.071713,
     "end_time": "2021-09-17T02:19:10.308761",
     "exception": false,
     "start_time": "2021-09-17T02:19:10.237048",
     "status": "completed"
    },
    "tags": []
   },
   "outputs": [
    {
     "data": {
      "text/html": [
       "<div>\n",
       "<style scoped>\n",
       "    .dataframe tbody tr th:only-of-type {\n",
       "        vertical-align: middle;\n",
       "    }\n",
       "\n",
       "    .dataframe tbody tr th {\n",
       "        vertical-align: top;\n",
       "    }\n",
       "\n",
       "    .dataframe thead th {\n",
       "        text-align: right;\n",
       "    }\n",
       "</style>\n",
       "<table border=\"1\" class=\"dataframe\">\n",
       "  <thead>\n",
       "    <tr style=\"text-align: right;\">\n",
       "      <th></th>\n",
       "      <th>Agency</th>\n",
       "      <th>Agency_Type</th>\n",
       "      <th>Distribution_Channel</th>\n",
       "      <th>Product_Name</th>\n",
       "      <th>Claim</th>\n",
       "      <th>Duration</th>\n",
       "      <th>Destination</th>\n",
       "      <th>Net_Sales</th>\n",
       "      <th>Commision</th>\n",
       "      <th>Age</th>\n",
       "    </tr>\n",
       "  </thead>\n",
       "  <tbody>\n",
       "    <tr>\n",
       "      <th>0</th>\n",
       "      <td>3</td>\n",
       "      <td>1</td>\n",
       "      <td>0</td>\n",
       "      <td>12</td>\n",
       "      <td>0</td>\n",
       "      <td>186</td>\n",
       "      <td>79</td>\n",
       "      <td>-29.0</td>\n",
       "      <td>9.57</td>\n",
       "      <td>81</td>\n",
       "    </tr>\n",
       "    <tr>\n",
       "      <th>1</th>\n",
       "      <td>3</td>\n",
       "      <td>1</td>\n",
       "      <td>0</td>\n",
       "      <td>12</td>\n",
       "      <td>0</td>\n",
       "      <td>186</td>\n",
       "      <td>79</td>\n",
       "      <td>-29.0</td>\n",
       "      <td>9.57</td>\n",
       "      <td>71</td>\n",
       "    </tr>\n",
       "    <tr>\n",
       "      <th>2</th>\n",
       "      <td>6</td>\n",
       "      <td>1</td>\n",
       "      <td>1</td>\n",
       "      <td>16</td>\n",
       "      <td>0</td>\n",
       "      <td>65</td>\n",
       "      <td>4</td>\n",
       "      <td>-49.5</td>\n",
       "      <td>29.70</td>\n",
       "      <td>32</td>\n",
       "    </tr>\n",
       "    <tr>\n",
       "      <th>3</th>\n",
       "      <td>6</td>\n",
       "      <td>1</td>\n",
       "      <td>1</td>\n",
       "      <td>16</td>\n",
       "      <td>0</td>\n",
       "      <td>60</td>\n",
       "      <td>4</td>\n",
       "      <td>-39.6</td>\n",
       "      <td>23.76</td>\n",
       "      <td>32</td>\n",
       "    </tr>\n",
       "    <tr>\n",
       "      <th>4</th>\n",
       "      <td>6</td>\n",
       "      <td>1</td>\n",
       "      <td>1</td>\n",
       "      <td>16</td>\n",
       "      <td>0</td>\n",
       "      <td>79</td>\n",
       "      <td>61</td>\n",
       "      <td>-19.8</td>\n",
       "      <td>11.88</td>\n",
       "      <td>41</td>\n",
       "    </tr>\n",
       "    <tr>\n",
       "      <th>...</th>\n",
       "      <td>...</td>\n",
       "      <td>...</td>\n",
       "      <td>...</td>\n",
       "      <td>...</td>\n",
       "      <td>...</td>\n",
       "      <td>...</td>\n",
       "      <td>...</td>\n",
       "      <td>...</td>\n",
       "      <td>...</td>\n",
       "      <td>...</td>\n",
       "    </tr>\n",
       "    <tr>\n",
       "      <th>63321</th>\n",
       "      <td>9</td>\n",
       "      <td>0</td>\n",
       "      <td>1</td>\n",
       "      <td>8</td>\n",
       "      <td>0</td>\n",
       "      <td>111</td>\n",
       "      <td>63</td>\n",
       "      <td>35.0</td>\n",
       "      <td>12.25</td>\n",
       "      <td>31</td>\n",
       "    </tr>\n",
       "    <tr>\n",
       "      <th>63322</th>\n",
       "      <td>9</td>\n",
       "      <td>0</td>\n",
       "      <td>1</td>\n",
       "      <td>8</td>\n",
       "      <td>0</td>\n",
       "      <td>58</td>\n",
       "      <td>26</td>\n",
       "      <td>40.0</td>\n",
       "      <td>14.00</td>\n",
       "      <td>40</td>\n",
       "    </tr>\n",
       "    <tr>\n",
       "      <th>63323</th>\n",
       "      <td>9</td>\n",
       "      <td>0</td>\n",
       "      <td>1</td>\n",
       "      <td>8</td>\n",
       "      <td>0</td>\n",
       "      <td>2</td>\n",
       "      <td>79</td>\n",
       "      <td>18.0</td>\n",
       "      <td>6.30</td>\n",
       "      <td>57</td>\n",
       "    </tr>\n",
       "    <tr>\n",
       "      <th>63324</th>\n",
       "      <td>9</td>\n",
       "      <td>0</td>\n",
       "      <td>1</td>\n",
       "      <td>8</td>\n",
       "      <td>0</td>\n",
       "      <td>3</td>\n",
       "      <td>145</td>\n",
       "      <td>18.0</td>\n",
       "      <td>6.30</td>\n",
       "      <td>63</td>\n",
       "    </tr>\n",
       "    <tr>\n",
       "      <th>63325</th>\n",
       "      <td>9</td>\n",
       "      <td>0</td>\n",
       "      <td>1</td>\n",
       "      <td>8</td>\n",
       "      <td>0</td>\n",
       "      <td>22</td>\n",
       "      <td>53</td>\n",
       "      <td>26.0</td>\n",
       "      <td>9.10</td>\n",
       "      <td>35</td>\n",
       "    </tr>\n",
       "  </tbody>\n",
       "</table>\n",
       "<p>63321 rows × 10 columns</p>\n",
       "</div>"
      ],
      "text/plain": [
       "       Agency  Agency_Type  Distribution_Channel  Product_Name  Claim  \\\n",
       "0           3            1                     0            12      0   \n",
       "1           3            1                     0            12      0   \n",
       "2           6            1                     1            16      0   \n",
       "3           6            1                     1            16      0   \n",
       "4           6            1                     1            16      0   \n",
       "...       ...          ...                   ...           ...    ...   \n",
       "63321       9            0                     1             8      0   \n",
       "63322       9            0                     1             8      0   \n",
       "63323       9            0                     1             8      0   \n",
       "63324       9            0                     1             8      0   \n",
       "63325       9            0                     1             8      0   \n",
       "\n",
       "       Duration  Destination  Net_Sales  Commision  Age  \n",
       "0           186           79      -29.0       9.57   81  \n",
       "1           186           79      -29.0       9.57   71  \n",
       "2            65            4      -49.5      29.70   32  \n",
       "3            60            4      -39.6      23.76   32  \n",
       "4            79           61      -19.8      11.88   41  \n",
       "...         ...          ...        ...        ...  ...  \n",
       "63321       111           63       35.0      12.25   31  \n",
       "63322        58           26       40.0      14.00   40  \n",
       "63323         2           79       18.0       6.30   57  \n",
       "63324         3          145       18.0       6.30   63  \n",
       "63325        22           53       26.0       9.10   35  \n",
       "\n",
       "[63321 rows x 10 columns]"
      ]
     },
     "execution_count": 26,
     "metadata": {},
     "output_type": "execute_result"
    }
   ],
   "source": [
    "df"
   ]
  },
  {
   "cell_type": "code",
   "execution_count": 27,
   "id": "0afcdd64",
   "metadata": {
    "execution": {
     "iopub.execute_input": "2021-09-17T02:19:10.408096Z",
     "iopub.status.busy": "2021-09-17T02:19:10.407141Z",
     "iopub.status.idle": "2021-09-17T02:19:10.423609Z",
     "shell.execute_reply": "2021-09-17T02:19:10.424084Z",
     "shell.execute_reply.started": "2021-09-14T10:18:28.734789Z"
    },
    "papermill": {
     "duration": 0.067608,
     "end_time": "2021-09-17T02:19:10.424301",
     "exception": false,
     "start_time": "2021-09-17T02:19:10.356693",
     "status": "completed"
    },
    "tags": []
   },
   "outputs": [],
   "source": [
    "column_names = [\"Agency\", \"Agency_Type\", \"Distribution_Channel\",\"Product_Name\",\"Duration\",\"Destination\",\"Net_Sales\",\"Commision\",\"Age\",\"Claim\"]\n",
    "df = df.reindex(columns=column_names)"
   ]
  },
  {
   "cell_type": "markdown",
   "id": "b57879fd",
   "metadata": {
    "papermill": {
     "duration": 0.051377,
     "end_time": "2021-09-17T02:19:10.523172",
     "exception": false,
     "start_time": "2021-09-17T02:19:10.471795",
     "status": "completed"
    },
    "tags": []
   },
   "source": [
    "Reordered the columns of the dataset to keep the target column i.e. Claim at the end."
   ]
  },
  {
   "cell_type": "code",
   "execution_count": 28,
   "id": "fd9d98ec",
   "metadata": {
    "execution": {
     "iopub.execute_input": "2021-09-17T02:19:10.623728Z",
     "iopub.status.busy": "2021-09-17T02:19:10.622710Z",
     "iopub.status.idle": "2021-09-17T02:19:11.530010Z",
     "shell.execute_reply": "2021-09-17T02:19:11.529454Z",
     "shell.execute_reply.started": "2021-09-14T10:18:44.054579Z"
    },
    "papermill": {
     "duration": 0.959639,
     "end_time": "2021-09-17T02:19:11.530169",
     "exception": false,
     "start_time": "2021-09-17T02:19:10.570530",
     "status": "completed"
    },
    "tags": []
   },
   "outputs": [
    {
     "data": {
      "text/plain": [
       "<AxesSubplot:>"
      ]
     },
     "execution_count": 28,
     "metadata": {},
     "output_type": "execute_result"
    },
    {
     "data": {
      "image/png": "[encoded data removed]",
      "text/plain": [
       "<Figure size 1440x576 with 2 Axes>"
      ]
     },
     "metadata": {
      "needs_background": "light"
     },
     "output_type": "display_data"
    }
   ],
   "source": [
    "plt.figure(figsize = (20,8))\n",
    "sns.heatmap(df.corr(), square=True,annot=True,cmap= 'coolwarm')"
   ]
  },
  {
   "cell_type": "markdown",
   "id": "6471365b",
   "metadata": {
    "papermill": {
     "duration": 0.049567,
     "end_time": "2021-09-17T02:19:11.629997",
     "exception": false,
     "start_time": "2021-09-17T02:19:11.580430",
     "status": "completed"
    },
    "tags": []
   },
   "source": [
    "Plotted the corelation coefficient to check the degree of colinearity which each individidual feature have with the output label. Clearly there is no high colinearity among any of the features. "
   ]
  },
  {
   "cell_type": "code",
   "execution_count": 29,
   "id": "571d652a",
   "metadata": {
    "execution": {
     "iopub.execute_input": "2021-09-17T02:19:11.742645Z",
     "iopub.status.busy": "2021-09-17T02:19:11.741904Z",
     "iopub.status.idle": "2021-09-17T02:19:11.745107Z",
     "shell.execute_reply": "2021-09-17T02:19:11.744483Z",
     "shell.execute_reply.started": "2021-09-14T10:19:01.875892Z"
    },
    "papermill": {
     "duration": 0.065193,
     "end_time": "2021-09-17T02:19:11.745259",
     "exception": false,
     "start_time": "2021-09-17T02:19:11.680066",
     "status": "completed"
    },
    "tags": []
   },
   "outputs": [],
   "source": [
    "y=df.iloc[:,[-1]]\n",
    "X=df.drop(y.columns,axis = 1)"
   ]
  },
  {
   "cell_type": "markdown",
   "id": "89a1cd83",
   "metadata": {
    "papermill": {
     "duration": 0.049552,
     "end_time": "2021-09-17T02:19:11.844785",
     "exception": false,
     "start_time": "2021-09-17T02:19:11.795233",
     "status": "completed"
    },
    "tags": []
   },
   "source": [
    "Sepearting features and target variable into X and y respectively."
   ]
  },
  {
   "cell_type": "code",
   "execution_count": 30,
   "id": "f3bebb04",
   "metadata": {
    "execution": {
     "iopub.execute_input": "2021-09-17T02:19:11.988008Z",
     "iopub.status.busy": "2021-09-17T02:19:11.986973Z",
     "iopub.status.idle": "2021-09-17T02:19:11.992163Z",
     "shell.execute_reply": "2021-09-17T02:19:11.991241Z",
     "shell.execute_reply.started": "2021-09-14T10:19:17.726385Z"
    },
    "papermill": {
     "duration": 0.097516,
     "end_time": "2021-09-17T02:19:11.992441",
     "exception": false,
     "start_time": "2021-09-17T02:19:11.894925",
     "status": "completed"
    },
    "tags": []
   },
   "outputs": [
    {
     "data": {
      "text/html": [
       "<div>\n",
       "<style scoped>\n",
       "    .dataframe tbody tr th:only-of-type {\n",
       "        vertical-align: middle;\n",
       "    }\n",
       "\n",
       "    .dataframe tbody tr th {\n",
       "        vertical-align: top;\n",
       "    }\n",
       "\n",
       "    .dataframe thead th {\n",
       "        text-align: right;\n",
       "    }\n",
       "</style>\n",
       "<table border=\"1\" class=\"dataframe\">\n",
       "  <thead>\n",
       "    <tr style=\"text-align: right;\">\n",
       "      <th></th>\n",
       "      <th>Agency</th>\n",
       "      <th>Agency_Type</th>\n",
       "      <th>Distribution_Channel</th>\n",
       "      <th>Product_Name</th>\n",
       "      <th>Duration</th>\n",
       "      <th>Destination</th>\n",
       "      <th>Net_Sales</th>\n",
       "      <th>Commision</th>\n",
       "      <th>Age</th>\n",
       "    </tr>\n",
       "  </thead>\n",
       "  <tbody>\n",
       "    <tr>\n",
       "      <th>0</th>\n",
       "      <td>3</td>\n",
       "      <td>1</td>\n",
       "      <td>0</td>\n",
       "      <td>12</td>\n",
       "      <td>186</td>\n",
       "      <td>79</td>\n",
       "      <td>-29.0</td>\n",
       "      <td>9.57</td>\n",
       "      <td>81</td>\n",
       "    </tr>\n",
       "    <tr>\n",
       "      <th>1</th>\n",
       "      <td>3</td>\n",
       "      <td>1</td>\n",
       "      <td>0</td>\n",
       "      <td>12</td>\n",
       "      <td>186</td>\n",
       "      <td>79</td>\n",
       "      <td>-29.0</td>\n",
       "      <td>9.57</td>\n",
       "      <td>71</td>\n",
       "    </tr>\n",
       "    <tr>\n",
       "      <th>2</th>\n",
       "      <td>6</td>\n",
       "      <td>1</td>\n",
       "      <td>1</td>\n",
       "      <td>16</td>\n",
       "      <td>65</td>\n",
       "      <td>4</td>\n",
       "      <td>-49.5</td>\n",
       "      <td>29.70</td>\n",
       "      <td>32</td>\n",
       "    </tr>\n",
       "    <tr>\n",
       "      <th>3</th>\n",
       "      <td>6</td>\n",
       "      <td>1</td>\n",
       "      <td>1</td>\n",
       "      <td>16</td>\n",
       "      <td>60</td>\n",
       "      <td>4</td>\n",
       "      <td>-39.6</td>\n",
       "      <td>23.76</td>\n",
       "      <td>32</td>\n",
       "    </tr>\n",
       "    <tr>\n",
       "      <th>4</th>\n",
       "      <td>6</td>\n",
       "      <td>1</td>\n",
       "      <td>1</td>\n",
       "      <td>16</td>\n",
       "      <td>79</td>\n",
       "      <td>61</td>\n",
       "      <td>-19.8</td>\n",
       "      <td>11.88</td>\n",
       "      <td>41</td>\n",
       "    </tr>\n",
       "    <tr>\n",
       "      <th>...</th>\n",
       "      <td>...</td>\n",
       "      <td>...</td>\n",
       "      <td>...</td>\n",
       "      <td>...</td>\n",
       "      <td>...</td>\n",
       "      <td>...</td>\n",
       "      <td>...</td>\n",
       "      <td>...</td>\n",
       "      <td>...</td>\n",
       "    </tr>\n",
       "    <tr>\n",
       "      <th>63321</th>\n",
       "      <td>9</td>\n",
       "      <td>0</td>\n",
       "      <td>1</td>\n",
       "      <td>8</td>\n",
       "      <td>111</td>\n",
       "      <td>63</td>\n",
       "      <td>35.0</td>\n",
       "      <td>12.25</td>\n",
       "      <td>31</td>\n",
       "    </tr>\n",
       "    <tr>\n",
       "      <th>63322</th>\n",
       "      <td>9</td>\n",
       "      <td>0</td>\n",
       "      <td>1</td>\n",
       "      <td>8</td>\n",
       "      <td>58</td>\n",
       "      <td>26</td>\n",
       "      <td>40.0</td>\n",
       "      <td>14.00</td>\n",
       "      <td>40</td>\n",
       "    </tr>\n",
       "    <tr>\n",
       "      <th>63323</th>\n",
       "      <td>9</td>\n",
       "      <td>0</td>\n",
       "      <td>1</td>\n",
       "      <td>8</td>\n",
       "      <td>2</td>\n",
       "      <td>79</td>\n",
       "      <td>18.0</td>\n",
       "      <td>6.30</td>\n",
       "      <td>57</td>\n",
       "    </tr>\n",
       "    <tr>\n",
       "      <th>63324</th>\n",
       "      <td>9</td>\n",
       "      <td>0</td>\n",
       "      <td>1</td>\n",
       "      <td>8</td>\n",
       "      <td>3</td>\n",
       "      <td>145</td>\n",
       "      <td>18.0</td>\n",
       "      <td>6.30</td>\n",
       "      <td>63</td>\n",
       "    </tr>\n",
       "    <tr>\n",
       "      <th>63325</th>\n",
       "      <td>9</td>\n",
       "      <td>0</td>\n",
       "      <td>1</td>\n",
       "      <td>8</td>\n",
       "      <td>22</td>\n",
       "      <td>53</td>\n",
       "      <td>26.0</td>\n",
       "      <td>9.10</td>\n",
       "      <td>35</td>\n",
       "    </tr>\n",
       "  </tbody>\n",
       "</table>\n",
       "<p>63321 rows × 9 columns</p>\n",
       "</div>"
      ],
      "text/plain": [
       "       Agency  Agency_Type  Distribution_Channel  Product_Name  Duration  \\\n",
       "0           3            1                     0            12       186   \n",
       "1           3            1                     0            12       186   \n",
       "2           6            1                     1            16        65   \n",
       "3           6            1                     1            16        60   \n",
       "4           6            1                     1            16        79   \n",
       "...       ...          ...                   ...           ...       ...   \n",
       "63321       9            0                     1             8       111   \n",
       "63322       9            0                     1             8        58   \n",
       "63323       9            0                     1             8         2   \n",
       "63324       9            0                     1             8         3   \n",
       "63325       9            0                     1             8        22   \n",
       "\n",
       "       Destination  Net_Sales  Commision  Age  \n",
       "0               79      -29.0       9.57   81  \n",
       "1               79      -29.0       9.57   71  \n",
       "2                4      -49.5      29.70   32  \n",
       "3                4      -39.6      23.76   32  \n",
       "4               61      -19.8      11.88   41  \n",
       "...            ...        ...        ...  ...  \n",
       "63321           63       35.0      12.25   31  \n",
       "63322           26       40.0      14.00   40  \n",
       "63323           79       18.0       6.30   57  \n",
       "63324          145       18.0       6.30   63  \n",
       "63325           53       26.0       9.10   35  \n",
       "\n",
       "[63321 rows x 9 columns]"
      ]
     },
     "execution_count": 30,
     "metadata": {},
     "output_type": "execute_result"
    }
   ],
   "source": [
    "X"
   ]
  },
  {
   "cell_type": "code",
   "execution_count": 31,
   "id": "2c3d251b",
   "metadata": {
    "execution": {
     "iopub.execute_input": "2021-09-17T02:19:12.115361Z",
     "iopub.status.busy": "2021-09-17T02:19:12.114527Z",
     "iopub.status.idle": "2021-09-17T02:19:12.119298Z",
     "shell.execute_reply": "2021-09-17T02:19:12.118754Z",
     "shell.execute_reply.started": "2021-09-14T10:19:25.186613Z"
    },
    "papermill": {
     "duration": 0.067141,
     "end_time": "2021-09-17T02:19:12.119457",
     "exception": false,
     "start_time": "2021-09-17T02:19:12.052316",
     "status": "completed"
    },
    "tags": []
   },
   "outputs": [
    {
     "data": {
      "text/html": [
       "<div>\n",
       "<style scoped>\n",
       "    .dataframe tbody tr th:only-of-type {\n",
       "        vertical-align: middle;\n",
       "    }\n",
       "\n",
       "    .dataframe tbody tr th {\n",
       "        vertical-align: top;\n",
       "    }\n",
       "\n",
       "    .dataframe thead th {\n",
       "        text-align: right;\n",
       "    }\n",
       "</style>\n",
       "<table border=\"1\" class=\"dataframe\">\n",
       "  <thead>\n",
       "    <tr style=\"text-align: right;\">\n",
       "      <th></th>\n",
       "      <th>Claim</th>\n",
       "    </tr>\n",
       "  </thead>\n",
       "  <tbody>\n",
       "    <tr>\n",
       "      <th>0</th>\n",
       "      <td>0</td>\n",
       "    </tr>\n",
       "    <tr>\n",
       "      <th>1</th>\n",
       "      <td>0</td>\n",
       "    </tr>\n",
       "    <tr>\n",
       "      <th>2</th>\n",
       "      <td>0</td>\n",
       "    </tr>\n",
       "    <tr>\n",
       "      <th>3</th>\n",
       "      <td>0</td>\n",
       "    </tr>\n",
       "    <tr>\n",
       "      <th>4</th>\n",
       "      <td>0</td>\n",
       "    </tr>\n",
       "    <tr>\n",
       "      <th>...</th>\n",
       "      <td>...</td>\n",
       "    </tr>\n",
       "    <tr>\n",
       "      <th>63321</th>\n",
       "      <td>0</td>\n",
       "    </tr>\n",
       "    <tr>\n",
       "      <th>63322</th>\n",
       "      <td>0</td>\n",
       "    </tr>\n",
       "    <tr>\n",
       "      <th>63323</th>\n",
       "      <td>0</td>\n",
       "    </tr>\n",
       "    <tr>\n",
       "      <th>63324</th>\n",
       "      <td>0</td>\n",
       "    </tr>\n",
       "    <tr>\n",
       "      <th>63325</th>\n",
       "      <td>0</td>\n",
       "    </tr>\n",
       "  </tbody>\n",
       "</table>\n",
       "<p>63321 rows × 1 columns</p>\n",
       "</div>"
      ],
      "text/plain": [
       "       Claim\n",
       "0          0\n",
       "1          0\n",
       "2          0\n",
       "3          0\n",
       "4          0\n",
       "...      ...\n",
       "63321      0\n",
       "63322      0\n",
       "63323      0\n",
       "63324      0\n",
       "63325      0\n",
       "\n",
       "[63321 rows x 1 columns]"
      ]
     },
     "execution_count": 31,
     "metadata": {},
     "output_type": "execute_result"
    }
   ],
   "source": [
    "y"
   ]
  },
  {
   "cell_type": "code",
   "execution_count": 32,
   "id": "bccb5507",
   "metadata": {
    "execution": {
     "iopub.execute_input": "2021-09-17T02:19:12.231280Z",
     "iopub.status.busy": "2021-09-17T02:19:12.230139Z",
     "iopub.status.idle": "2021-09-17T02:19:12.311550Z",
     "shell.execute_reply": "2021-09-17T02:19:12.312184Z",
     "shell.execute_reply.started": "2021-09-14T10:19:34.186574Z"
    },
    "papermill": {
     "duration": 0.140619,
     "end_time": "2021-09-17T02:19:12.312417",
     "exception": false,
     "start_time": "2021-09-17T02:19:12.171798",
     "status": "completed"
    },
    "tags": []
   },
   "outputs": [
    {
     "name": "stdout",
     "output_type": "stream",
     "text": [
      "Shape of X before SMOTE: (63321, 9)\n",
      "Shape of X after SMOTE: (124788, 9)\n",
      "\n",
      "Balance of positive and negative classes (%):\n"
     ]
    },
    {
     "data": {
      "text/plain": [
       "Claim\n",
       "0        50.0\n",
       "1        50.0\n",
       "dtype: float64"
      ]
     },
     "execution_count": 32,
     "metadata": {},
     "output_type": "execute_result"
    }
   ],
   "source": [
    "sm = SMOTE(random_state=42)\n",
    "X_sm, y_sm = sm.fit_resample(X, y)\n",
    "print(f'''Shape of X before SMOTE: {X.shape}\n",
    "Shape of X after SMOTE: {X_sm.shape}''')\n",
    "print('\\nBalance of positive and negative classes (%):')\n",
    "y_sm.value_counts(normalize=True) * 100"
   ]
  },
  {
   "cell_type": "markdown",
   "id": "8fdd9f4b",
   "metadata": {
    "papermill": {
     "duration": 0.051403,
     "end_time": "2021-09-17T02:19:12.415356",
     "exception": false,
     "start_time": "2021-09-17T02:19:12.363953",
     "status": "completed"
    },
    "tags": []
   },
   "source": [
    "SMOTE is performed to handle imbalance target class by oversampling."
   ]
  },
  {
   "cell_type": "code",
   "execution_count": 33,
   "id": "47a710b4",
   "metadata": {
    "execution": {
     "iopub.execute_input": "2021-09-17T02:19:12.536412Z",
     "iopub.status.busy": "2021-09-17T02:19:12.530679Z",
     "iopub.status.idle": "2021-09-17T02:19:12.540758Z",
     "shell.execute_reply": "2021-09-17T02:19:12.540115Z",
     "shell.execute_reply.started": "2021-09-14T10:20:02.726006Z"
    },
    "papermill": {
     "duration": 0.073935,
     "end_time": "2021-09-17T02:19:12.540914",
     "exception": false,
     "start_time": "2021-09-17T02:19:12.466979",
     "status": "completed"
    },
    "tags": []
   },
   "outputs": [
    {
     "data": {
      "text/html": [
       "<div>\n",
       "<style scoped>\n",
       "    .dataframe tbody tr th:only-of-type {\n",
       "        vertical-align: middle;\n",
       "    }\n",
       "\n",
       "    .dataframe tbody tr th {\n",
       "        vertical-align: top;\n",
       "    }\n",
       "\n",
       "    .dataframe thead th {\n",
       "        text-align: right;\n",
       "    }\n",
       "</style>\n",
       "<table border=\"1\" class=\"dataframe\">\n",
       "  <thead>\n",
       "    <tr style=\"text-align: right;\">\n",
       "      <th></th>\n",
       "      <th>Agency</th>\n",
       "      <th>Agency_Type</th>\n",
       "      <th>Distribution_Channel</th>\n",
       "      <th>Product_Name</th>\n",
       "      <th>Duration</th>\n",
       "      <th>Destination</th>\n",
       "      <th>Net_Sales</th>\n",
       "      <th>Commision</th>\n",
       "      <th>Age</th>\n",
       "    </tr>\n",
       "  </thead>\n",
       "  <tbody>\n",
       "    <tr>\n",
       "      <th>0</th>\n",
       "      <td>3</td>\n",
       "      <td>1</td>\n",
       "      <td>0</td>\n",
       "      <td>12</td>\n",
       "      <td>186</td>\n",
       "      <td>79</td>\n",
       "      <td>-29.000000</td>\n",
       "      <td>9.570000</td>\n",
       "      <td>81</td>\n",
       "    </tr>\n",
       "    <tr>\n",
       "      <th>1</th>\n",
       "      <td>3</td>\n",
       "      <td>1</td>\n",
       "      <td>0</td>\n",
       "      <td>12</td>\n",
       "      <td>186</td>\n",
       "      <td>79</td>\n",
       "      <td>-29.000000</td>\n",
       "      <td>9.570000</td>\n",
       "      <td>71</td>\n",
       "    </tr>\n",
       "    <tr>\n",
       "      <th>2</th>\n",
       "      <td>6</td>\n",
       "      <td>1</td>\n",
       "      <td>1</td>\n",
       "      <td>16</td>\n",
       "      <td>65</td>\n",
       "      <td>4</td>\n",
       "      <td>-49.500000</td>\n",
       "      <td>29.700000</td>\n",
       "      <td>32</td>\n",
       "    </tr>\n",
       "    <tr>\n",
       "      <th>3</th>\n",
       "      <td>6</td>\n",
       "      <td>1</td>\n",
       "      <td>1</td>\n",
       "      <td>16</td>\n",
       "      <td>60</td>\n",
       "      <td>4</td>\n",
       "      <td>-39.600000</td>\n",
       "      <td>23.760000</td>\n",
       "      <td>32</td>\n",
       "    </tr>\n",
       "    <tr>\n",
       "      <th>4</th>\n",
       "      <td>6</td>\n",
       "      <td>1</td>\n",
       "      <td>1</td>\n",
       "      <td>16</td>\n",
       "      <td>79</td>\n",
       "      <td>61</td>\n",
       "      <td>-19.800000</td>\n",
       "      <td>11.880000</td>\n",
       "      <td>41</td>\n",
       "    </tr>\n",
       "    <tr>\n",
       "      <th>...</th>\n",
       "      <td>...</td>\n",
       "      <td>...</td>\n",
       "      <td>...</td>\n",
       "      <td>...</td>\n",
       "      <td>...</td>\n",
       "      <td>...</td>\n",
       "      <td>...</td>\n",
       "      <td>...</td>\n",
       "      <td>...</td>\n",
       "    </tr>\n",
       "    <tr>\n",
       "      <th>124783</th>\n",
       "      <td>2</td>\n",
       "      <td>0</td>\n",
       "      <td>1</td>\n",
       "      <td>9</td>\n",
       "      <td>2</td>\n",
       "      <td>118</td>\n",
       "      <td>13.500000</td>\n",
       "      <td>3.380000</td>\n",
       "      <td>37</td>\n",
       "    </tr>\n",
       "    <tr>\n",
       "      <th>124784</th>\n",
       "      <td>7</td>\n",
       "      <td>1</td>\n",
       "      <td>1</td>\n",
       "      <td>10</td>\n",
       "      <td>92</td>\n",
       "      <td>98</td>\n",
       "      <td>20.586039</td>\n",
       "      <td>0.000000</td>\n",
       "      <td>36</td>\n",
       "    </tr>\n",
       "    <tr>\n",
       "      <th>124785</th>\n",
       "      <td>7</td>\n",
       "      <td>1</td>\n",
       "      <td>1</td>\n",
       "      <td>16</td>\n",
       "      <td>11</td>\n",
       "      <td>59</td>\n",
       "      <td>55.166978</td>\n",
       "      <td>33.902413</td>\n",
       "      <td>34</td>\n",
       "    </tr>\n",
       "    <tr>\n",
       "      <th>124786</th>\n",
       "      <td>2</td>\n",
       "      <td>0</td>\n",
       "      <td>1</td>\n",
       "      <td>17</td>\n",
       "      <td>3</td>\n",
       "      <td>118</td>\n",
       "      <td>16.977393</td>\n",
       "      <td>4.247173</td>\n",
       "      <td>36</td>\n",
       "    </tr>\n",
       "    <tr>\n",
       "      <th>124787</th>\n",
       "      <td>2</td>\n",
       "      <td>0</td>\n",
       "      <td>1</td>\n",
       "      <td>4</td>\n",
       "      <td>370</td>\n",
       "      <td>118</td>\n",
       "      <td>216.000000</td>\n",
       "      <td>54.000000</td>\n",
       "      <td>20</td>\n",
       "    </tr>\n",
       "  </tbody>\n",
       "</table>\n",
       "<p>124788 rows × 9 columns</p>\n",
       "</div>"
      ],
      "text/plain": [
       "        Agency  Agency_Type  Distribution_Channel  Product_Name  Duration  \\\n",
       "0            3            1                     0            12       186   \n",
       "1            3            1                     0            12       186   \n",
       "2            6            1                     1            16        65   \n",
       "3            6            1                     1            16        60   \n",
       "4            6            1                     1            16        79   \n",
       "...        ...          ...                   ...           ...       ...   \n",
       "124783       2            0                     1             9         2   \n",
       "124784       7            1                     1            10        92   \n",
       "124785       7            1                     1            16        11   \n",
       "124786       2            0                     1            17         3   \n",
       "124787       2            0                     1             4       370   \n",
       "\n",
       "        Destination   Net_Sales  Commision  Age  \n",
       "0                79  -29.000000   9.570000   81  \n",
       "1                79  -29.000000   9.570000   71  \n",
       "2                 4  -49.500000  29.700000   32  \n",
       "3                 4  -39.600000  23.760000   32  \n",
       "4                61  -19.800000  11.880000   41  \n",
       "...             ...         ...        ...  ...  \n",
       "124783          118   13.500000   3.380000   37  \n",
       "124784           98   20.586039   0.000000   36  \n",
       "124785           59   55.166978  33.902413   34  \n",
       "124786          118   16.977393   4.247173   36  \n",
       "124787          118  216.000000  54.000000   20  \n",
       "\n",
       "[124788 rows x 9 columns]"
      ]
     },
     "execution_count": 33,
     "metadata": {},
     "output_type": "execute_result"
    }
   ],
   "source": [
    "X_sm"
   ]
  },
  {
   "cell_type": "markdown",
   "id": "d0bf9f52",
   "metadata": {
    "papermill": {
     "duration": 0.052047,
     "end_time": "2021-09-17T02:19:12.645276",
     "exception": false,
     "start_time": "2021-09-17T02:19:12.593229",
     "status": "completed"
    },
    "tags": []
   },
   "source": []
  },
  {
   "cell_type": "code",
   "execution_count": 34,
   "id": "0ff51224",
   "metadata": {
    "execution": {
     "iopub.execute_input": "2021-09-17T02:19:12.759916Z",
     "iopub.status.busy": "2021-09-17T02:19:12.759191Z",
     "iopub.status.idle": "2021-09-17T02:19:12.765064Z",
     "shell.execute_reply": "2021-09-17T02:19:12.764529Z",
     "shell.execute_reply.started": "2021-09-14T10:20:12.416372Z"
    },
    "papermill": {
     "duration": 0.067287,
     "end_time": "2021-09-17T02:19:12.765219",
     "exception": false,
     "start_time": "2021-09-17T02:19:12.697932",
     "status": "completed"
    },
    "tags": []
   },
   "outputs": [
    {
     "data": {
      "text/html": [
       "<div>\n",
       "<style scoped>\n",
       "    .dataframe tbody tr th:only-of-type {\n",
       "        vertical-align: middle;\n",
       "    }\n",
       "\n",
       "    .dataframe tbody tr th {\n",
       "        vertical-align: top;\n",
       "    }\n",
       "\n",
       "    .dataframe thead th {\n",
       "        text-align: right;\n",
       "    }\n",
       "</style>\n",
       "<table border=\"1\" class=\"dataframe\">\n",
       "  <thead>\n",
       "    <tr style=\"text-align: right;\">\n",
       "      <th></th>\n",
       "      <th>Claim</th>\n",
       "    </tr>\n",
       "  </thead>\n",
       "  <tbody>\n",
       "    <tr>\n",
       "      <th>0</th>\n",
       "      <td>0</td>\n",
       "    </tr>\n",
       "    <tr>\n",
       "      <th>1</th>\n",
       "      <td>0</td>\n",
       "    </tr>\n",
       "    <tr>\n",
       "      <th>2</th>\n",
       "      <td>0</td>\n",
       "    </tr>\n",
       "    <tr>\n",
       "      <th>3</th>\n",
       "      <td>0</td>\n",
       "    </tr>\n",
       "    <tr>\n",
       "      <th>4</th>\n",
       "      <td>0</td>\n",
       "    </tr>\n",
       "    <tr>\n",
       "      <th>...</th>\n",
       "      <td>...</td>\n",
       "    </tr>\n",
       "    <tr>\n",
       "      <th>124783</th>\n",
       "      <td>1</td>\n",
       "    </tr>\n",
       "    <tr>\n",
       "      <th>124784</th>\n",
       "      <td>1</td>\n",
       "    </tr>\n",
       "    <tr>\n",
       "      <th>124785</th>\n",
       "      <td>1</td>\n",
       "    </tr>\n",
       "    <tr>\n",
       "      <th>124786</th>\n",
       "      <td>1</td>\n",
       "    </tr>\n",
       "    <tr>\n",
       "      <th>124787</th>\n",
       "      <td>1</td>\n",
       "    </tr>\n",
       "  </tbody>\n",
       "</table>\n",
       "<p>124788 rows × 1 columns</p>\n",
       "</div>"
      ],
      "text/plain": [
       "        Claim\n",
       "0           0\n",
       "1           0\n",
       "2           0\n",
       "3           0\n",
       "4           0\n",
       "...       ...\n",
       "124783      1\n",
       "124784      1\n",
       "124785      1\n",
       "124786      1\n",
       "124787      1\n",
       "\n",
       "[124788 rows x 1 columns]"
      ]
     },
     "execution_count": 34,
     "metadata": {},
     "output_type": "execute_result"
    }
   ],
   "source": [
    "y_sm"
   ]
  },
  {
   "cell_type": "code",
   "execution_count": 35,
   "id": "1575f8aa",
   "metadata": {
    "execution": {
     "iopub.execute_input": "2021-09-17T02:19:12.882322Z",
     "iopub.status.busy": "2021-09-17T02:19:12.880494Z",
     "iopub.status.idle": "2021-09-17T02:19:12.956860Z",
     "shell.execute_reply": "2021-09-17T02:19:12.957312Z",
     "shell.execute_reply.started": "2021-09-14T10:20:20.495214Z"
    },
    "papermill": {
     "duration": 0.137754,
     "end_time": "2021-09-17T02:19:12.957521",
     "exception": false,
     "start_time": "2021-09-17T02:19:12.819767",
     "status": "completed"
    },
    "tags": []
   },
   "outputs": [
    {
     "data": {
      "text/html": [
       "<div>\n",
       "<style scoped>\n",
       "    .dataframe tbody tr th:only-of-type {\n",
       "        vertical-align: middle;\n",
       "    }\n",
       "\n",
       "    .dataframe tbody tr th {\n",
       "        vertical-align: top;\n",
       "    }\n",
       "\n",
       "    .dataframe thead th {\n",
       "        text-align: right;\n",
       "    }\n",
       "</style>\n",
       "<table border=\"1\" class=\"dataframe\">\n",
       "  <thead>\n",
       "    <tr style=\"text-align: right;\">\n",
       "      <th></th>\n",
       "      <th>Agency</th>\n",
       "      <th>Agency_Type</th>\n",
       "      <th>Distribution_Channel</th>\n",
       "      <th>Product_Name</th>\n",
       "      <th>Duration</th>\n",
       "      <th>Destination</th>\n",
       "      <th>Net_Sales</th>\n",
       "      <th>Commision</th>\n",
       "      <th>Age</th>\n",
       "    </tr>\n",
       "  </thead>\n",
       "  <tbody>\n",
       "    <tr>\n",
       "      <th>0</th>\n",
       "      <td>0.2</td>\n",
       "      <td>1.0</td>\n",
       "      <td>0.0</td>\n",
       "      <td>0.48</td>\n",
       "      <td>0.038107</td>\n",
       "      <td>0.533784</td>\n",
       "      <td>0.300250</td>\n",
       "      <td>0.033757</td>\n",
       "      <td>0.686441</td>\n",
       "    </tr>\n",
       "    <tr>\n",
       "      <th>1</th>\n",
       "      <td>0.2</td>\n",
       "      <td>1.0</td>\n",
       "      <td>0.0</td>\n",
       "      <td>0.48</td>\n",
       "      <td>0.038107</td>\n",
       "      <td>0.533784</td>\n",
       "      <td>0.300250</td>\n",
       "      <td>0.033757</td>\n",
       "      <td>0.601695</td>\n",
       "    </tr>\n",
       "    <tr>\n",
       "      <th>2</th>\n",
       "      <td>0.4</td>\n",
       "      <td>1.0</td>\n",
       "      <td>1.0</td>\n",
       "      <td>0.64</td>\n",
       "      <td>0.013317</td>\n",
       "      <td>0.027027</td>\n",
       "      <td>0.283153</td>\n",
       "      <td>0.104762</td>\n",
       "      <td>0.271186</td>\n",
       "    </tr>\n",
       "    <tr>\n",
       "      <th>3</th>\n",
       "      <td>0.4</td>\n",
       "      <td>1.0</td>\n",
       "      <td>1.0</td>\n",
       "      <td>0.64</td>\n",
       "      <td>0.012293</td>\n",
       "      <td>0.027027</td>\n",
       "      <td>0.291410</td>\n",
       "      <td>0.083810</td>\n",
       "      <td>0.271186</td>\n",
       "    </tr>\n",
       "    <tr>\n",
       "      <th>4</th>\n",
       "      <td>0.4</td>\n",
       "      <td>1.0</td>\n",
       "      <td>1.0</td>\n",
       "      <td>0.64</td>\n",
       "      <td>0.016185</td>\n",
       "      <td>0.412162</td>\n",
       "      <td>0.307923</td>\n",
       "      <td>0.041905</td>\n",
       "      <td>0.347458</td>\n",
       "    </tr>\n",
       "  </tbody>\n",
       "</table>\n",
       "</div>"
      ],
      "text/plain": [
       "   Agency  Agency_Type  Distribution_Channel  Product_Name  Duration  \\\n",
       "0     0.2          1.0                   0.0          0.48  0.038107   \n",
       "1     0.2          1.0                   0.0          0.48  0.038107   \n",
       "2     0.4          1.0                   1.0          0.64  0.013317   \n",
       "3     0.4          1.0                   1.0          0.64  0.012293   \n",
       "4     0.4          1.0                   1.0          0.64  0.016185   \n",
       "\n",
       "   Destination  Net_Sales  Commision       Age  \n",
       "0     0.533784   0.300250   0.033757  0.686441  \n",
       "1     0.533784   0.300250   0.033757  0.601695  \n",
       "2     0.027027   0.283153   0.104762  0.271186  \n",
       "3     0.027027   0.291410   0.083810  0.271186  \n",
       "4     0.412162   0.307923   0.041905  0.347458  "
      ]
     },
     "execution_count": 35,
     "metadata": {},
     "output_type": "execute_result"
    }
   ],
   "source": [
    "X_new=pd.DataFrame()\n",
    "to_scale = X_sm.columns\n",
    "mms = MinMaxScaler()\n",
    "X_new[to_scale] = mms.fit_transform(X_sm[to_scale])\n",
    "X_new.head()"
   ]
  },
  {
   "cell_type": "markdown",
   "id": "47dde137",
   "metadata": {
    "papermill": {
     "duration": 0.053747,
     "end_time": "2021-09-17T02:19:13.065722",
     "exception": false,
     "start_time": "2021-09-17T02:19:13.011975",
     "status": "completed"
    },
    "tags": []
   },
   "source": [
    "Scaling is performed to keep the values in range of 0 and 1."
   ]
  },
  {
   "cell_type": "code",
   "execution_count": 36,
   "id": "71879458",
   "metadata": {
    "execution": {
     "iopub.execute_input": "2021-09-17T02:19:13.183943Z",
     "iopub.status.busy": "2021-09-17T02:19:13.180824Z",
     "iopub.status.idle": "2021-09-17T02:19:13.214467Z",
     "shell.execute_reply": "2021-09-17T02:19:13.213911Z",
     "shell.execute_reply.started": "2021-09-14T10:20:37.076781Z"
    },
    "papermill": {
     "duration": 0.095506,
     "end_time": "2021-09-17T02:19:13.214660",
     "exception": false,
     "start_time": "2021-09-17T02:19:13.119154",
     "status": "completed"
    },
    "tags": []
   },
   "outputs": [],
   "source": [
    "X_train, X_test, y_train, y_test = train_test_split(X_new, y_sm, test_size=0.25, random_state=42)"
   ]
  },
  {
   "cell_type": "markdown",
   "id": "64751e2c",
   "metadata": {
    "papermill": {
     "duration": 0.054164,
     "end_time": "2021-09-17T02:19:13.322475",
     "exception": false,
     "start_time": "2021-09-17T02:19:13.268311",
     "status": "completed"
    },
    "tags": []
   },
   "source": [
    "The entire dataset is split into Training and test dataset."
   ]
  },
  {
   "cell_type": "code",
   "execution_count": 37,
   "id": "0a1dcd76",
   "metadata": {
    "execution": {
     "iopub.execute_input": "2021-09-17T02:19:13.436930Z",
     "iopub.status.busy": "2021-09-17T02:19:13.436126Z",
     "iopub.status.idle": "2021-09-17T02:19:27.275698Z",
     "shell.execute_reply": "2021-09-17T02:19:27.274978Z",
     "shell.execute_reply.started": "2021-09-14T10:21:11.296152Z"
    },
    "papermill": {
     "duration": 13.8995,
     "end_time": "2021-09-17T02:19:27.275855",
     "exception": false,
     "start_time": "2021-09-17T02:19:13.376355",
     "status": "completed"
    },
    "tags": []
   },
   "outputs": [
    {
     "name": "stderr",
     "output_type": "stream",
     "text": [
      "/opt/conda/lib/python3.7/site-packages/ipykernel_launcher.py:2: DataConversionWarning:\n",
      "\n",
      "A column-vector y was passed when a 1d array was expected. Please change the shape of y to (n_samples,), for example using ravel().\n",
      "\n"
     ]
    }
   ],
   "source": [
    "model = RandomForestClassifier(random_state=42)\n",
    "model.fit(X_train, y_train)\n",
    "preds = model.predict(X_test)\n"
   ]
  },
  {
   "cell_type": "markdown",
   "id": "ea84934e",
   "metadata": {
    "papermill": {
     "duration": 0.053749,
     "end_time": "2021-09-17T02:19:27.383056",
     "exception": false,
     "start_time": "2021-09-17T02:19:27.329307",
     "status": "completed"
    },
    "tags": []
   },
   "source": [
    "Looking at the dataset, its clear that the data is not linear. Hence, Random Forest Classifier should give some prominent results. "
   ]
  },
  {
   "cell_type": "code",
   "execution_count": 38,
   "id": "fc7e981c",
   "metadata": {
    "execution": {
     "iopub.execute_input": "2021-09-17T02:19:27.496953Z",
     "iopub.status.busy": "2021-09-17T02:19:27.496223Z",
     "iopub.status.idle": "2021-09-17T02:19:27.804774Z",
     "shell.execute_reply": "2021-09-17T02:19:27.805222Z",
     "shell.execute_reply.started": "2021-09-14T10:21:36.806327Z"
    },
    "papermill": {
     "duration": 0.368753,
     "end_time": "2021-09-17T02:19:27.805447",
     "exception": false,
     "start_time": "2021-09-17T02:19:27.436694",
     "status": "completed"
    },
    "tags": []
   },
   "outputs": [
    {
     "name": "stdout",
     "output_type": "stream",
     "text": [
      "Accuracy = 0.97\n",
      "Recall = 0.98\n",
      "\n"
     ]
    },
    {
     "data": {
      "image/png": "[encoded data removed]",
      "text/plain": [
       "<Figure size 576x432 with 2 Axes>"
      ]
     },
     "metadata": {
      "needs_background": "light"
     },
     "output_type": "display_data"
    }
   ],
   "source": [
    "print(f'Accuracy = {accuracy_score(y_test, preds):.2f}\\nRecall = {recall_score(y_test, preds):.2f}\\n')\n",
    "cm = confusion_matrix(y_test, preds)\n",
    "plt.figure(figsize=(8, 6))\n",
    "plt.title('Confusion Matrix', size=16)\n",
    "sns.heatmap(cm, annot=True, cmap='Blues');"
   ]
  },
  {
   "cell_type": "code",
   "execution_count": 39,
   "id": "fb8033a6",
   "metadata": {
    "execution": {
     "iopub.execute_input": "2021-09-17T02:19:27.922301Z",
     "iopub.status.busy": "2021-09-17T02:19:27.921552Z",
     "iopub.status.idle": "2021-09-17T02:19:27.942122Z",
     "shell.execute_reply": "2021-09-17T02:19:27.941470Z",
     "shell.execute_reply.started": "2021-09-14T10:21:45.196319Z"
    },
    "papermill": {
     "duration": 0.08178,
     "end_time": "2021-09-17T02:19:27.942289",
     "exception": false,
     "start_time": "2021-09-17T02:19:27.860509",
     "status": "completed"
    },
    "tags": []
   },
   "outputs": [
    {
     "data": {
      "text/plain": [
       "0.9728177248501738"
      ]
     },
     "execution_count": 39,
     "metadata": {},
     "output_type": "execute_result"
    }
   ],
   "source": [
    "f1_score(y_test, preds, average='macro')"
   ]
  },
  {
   "cell_type": "markdown",
   "id": "b5f1a337",
   "metadata": {
    "papermill": {
     "duration": 0.05819,
     "end_time": "2021-09-17T02:19:28.056515",
     "exception": false,
     "start_time": "2021-09-17T02:19:27.998325",
     "status": "completed"
    },
    "tags": []
   },
   "source": [
    "## A good accuracy of 97% and an f1 score of 0.97 is achieved through the model."
   ]
  },
  {
   "cell_type": "code",
   "execution_count": null,
   "id": "8eba957e",
   "metadata": {
    "papermill": {
     "duration": 0.057732,
     "end_time": "2021-09-17T02:19:28.171493",
     "exception": false,
     "start_time": "2021-09-17T02:19:28.113761",
     "status": "completed"
    },
    "tags": []
   },
   "outputs": [],
   "source": []
  }
 ],
 "metadata": {
  "kernelspec": {
   "display_name": "Python 3",
   "language": "python",
   "name": "python3"
  },
  "language_info": {
   "codemirror_mode": {
    "name": "ipython",
    "version": 3
   },
   "file_extension": ".py",
   "mimetype": "text/x-python",
   "name": "python",
   "nbconvert_exporter": "python",
   "pygments_lexer": "ipython3",
   "version": "3.7.10"
  },
  "papermill": {
   "default_parameters": {},
   "duration": 37.907843,
   "end_time": "2021-09-17T02:19:29.529790",
   "environment_variables": {},
   "exception": null,
   "input_path": "__notebook__.ipynb",
   "output_path": "__notebook__.ipynb",
   "parameters": {},
   "start_time": "2021-09-17T02:18:51.621947",
   "version": "2.3.3"
  }
 },
 "nbformat": 4,
 "nbformat_minor": 5
}
